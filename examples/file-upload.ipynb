{
 "cells": [
  {
   "cell_type": "markdown",
   "metadata": {},
   "source": [
    "# File (`Revision`) upload example"
   ]
  },
  {
   "cell_type": "markdown",
   "metadata": {},
   "source": [
    "To run this example, you'll need the Ovation Python API. Install with `pip`:\n",
    "\n",
    "    pip install ovation"
   ]
  },
  {
   "cell_type": "code",
   "execution_count": 8,
   "metadata": {
    "collapsed": false
   },
   "outputs": [],
   "source": [
    "from ovation.session import connect\n",
    "from ovation.upload import upload_revision, upload_file\n",
    "from ovation.download import download_revision\n",
    "\n",
    "from pprint import pprint\n",
    "from getpass import getpass\n",
    "\n",
    "from tqdm import tqdm_notebook as tqdm"
   ]
  },
  {
   "cell_type": "markdown",
   "metadata": {},
   "source": [
    "## Connection"
   ]
  },
  {
   "cell_type": "markdown",
   "metadata": {},
   "source": [
    "You use a `connection.Session` to interact with the Ovaiton REST API. Use the `connect` method to create an authenticated `Session`. You can provide your Ovation password with the `password=` parameter, but please keep your Ovation password secure. **Don't put your password in your source code**. It's much better to let `connect` prompt you for your password when needed. For scripts run on the server, it's best to provide your password via an environment variable:\n",
    "\n",
    "    connect(my_email, password=os.environ['OVATION_PASSWORD'])\n",
    "    \n",
    "for example."
   ]
  },
  {
   "cell_type": "code",
   "execution_count": 2,
   "metadata": {
    "collapsed": false
   },
   "outputs": [
    {
     "name": "stdout",
     "output_type": "stream",
     "text": [
      "Ovation email: barry@ovation.io\n"
     ]
    }
   ],
   "source": [
    "email = input('Ovation email: ')"
   ]
  },
  {
   "cell_type": "code",
   "execution_count": 3,
   "metadata": {
    "collapsed": false
   },
   "outputs": [
    {
     "name": "stdout",
     "output_type": "stream",
     "text": [
      "Ovation password: ········\n"
     ]
    }
   ],
   "source": [
    "session = connect(email)"
   ]
  },
  {
   "cell_type": "markdown",
   "metadata": {},
   "source": [
    "## Upload a file (revision)"
   ]
  },
  {
   "cell_type": "markdown",
   "metadata": {},
   "source": [
    "The Python API wraps the Ovation [REST API](https://api.ovation.io/), using the awesome [`requests`](http://docs.python-requests.org/en/master/) library. The `Session` provides some convenient additions to make working with Ovation's API a little easier. For example, it automatically sets the content type to JSON and handles URL creation from path and host.\n",
    "\n",
    "The example below shows retrieving a project by ID, adding a new `File` and uploading a new `Revision` (a version) of that file using the `ovation.revisions.upload_revision` convenience method."
   ]
  },
  {
   "cell_type": "code",
   "execution_count": 4,
   "metadata": {
    "collapsed": false
   },
   "outputs": [
    {
     "name": "stdout",
     "output_type": "stream",
     "text": [
      "Project UUID: 2525ad8c-7b2f-4ba0-8ab1-f4a25b773708\n"
     ]
    }
   ],
   "source": [
    "project_id = input('Project UUID: ')"
   ]
  },
  {
   "cell_type": "code",
   "execution_count": 5,
   "metadata": {
    "collapsed": false
   },
   "outputs": [
    {
     "name": "stdout",
     "output_type": "stream",
     "text": [
      "{'_id': '2525ad8c-7b2f-4ba0-8ab1-f4a25b773708',\n",
      " '_rev': '15-1c56594d03f8abf8b3b2342a1c250b8f',\n",
      " 'api_version': 4,\n",
      " 'attributes': {'created-at': '2016-02-12T17:54:30.208Z',\n",
      "                'description': 'Test\\n',\n",
      "                'name': 'Another one',\n",
      "                'updated-at': '2016-09-17T01:52:13.182Z'},\n",
      " 'links': {'_collaboration_roots': [],\n",
      "           'notes': '/api/v1/entities/2525ad8c-7b2f-4ba0-8ab1-f4a25b773708/annotations/notes',\n",
      "           'properties': '/api/v1/entities/2525ad8c-7b2f-4ba0-8ab1-f4a25b773708/annotations/properties',\n",
      "           'self': '/api/v1/projects/2525ad8c-7b2f-4ba0-8ab1-f4a25b773708',\n",
      "           'tags': '/api/v1/entities/2525ad8c-7b2f-4ba0-8ab1-f4a25b773708/annotations/tags',\n",
      "           'timeline-events': '/api/v1/entities/2525ad8c-7b2f-4ba0-8ab1-f4a25b773708/annotations/timeline_events'},\n",
      " 'owner': 'e45c459e-e6d8-4e4d-a214-780ffe30e0e7',\n",
      " 'permissions': {'create': True, 'delete': True, 'update': True},\n",
      " 'relationships': {'activities': {'related': '/api/v1/projects/2525ad8c-7b2f-4ba0-8ab1-f4a25b773708/links/activities',\n",
      "                                  'self': '/api/v1/projects/2525ad8c-7b2f-4ba0-8ab1-f4a25b773708/links/activities/relationships'},\n",
      "                   'files': {'related': '/api/v1/projects/2525ad8c-7b2f-4ba0-8ab1-f4a25b773708/links/files',\n",
      "                             'self': '/api/v1/projects/2525ad8c-7b2f-4ba0-8ab1-f4a25b773708/links/files/relationships'},\n",
      "                   'folders': {'related': '/api/v1/projects/2525ad8c-7b2f-4ba0-8ab1-f4a25b773708/links/folders',\n",
      "                               'self': '/api/v1/projects/2525ad8c-7b2f-4ba0-8ab1-f4a25b773708/links/folders/relationships'}},\n",
      " 'type': 'Project'}\n"
     ]
    }
   ],
   "source": [
    "# Get a project by ID\n",
    "#project_id = 'f2bfa3da-7eae-45c4-80a5-9e9a3588a237'\n",
    "project_url = '/projects/{}'.format(project_id)\n",
    "proj = session.get(project_url)\n",
    "\n",
    "pprint(proj)"
   ]
  },
  {
   "cell_type": "code",
   "execution_count": null,
   "metadata": {
    "collapsed": true
   },
   "outputs": [],
   "source": [
    "# Create a new File\n",
    "r = session.post(project_url, \n",
    "                 data={'entities': [{'type': 'File',\n",
    "                                     'attributes': {'name': 'example.vcf'}}]})\n",
    "file = r[0]\n",
    "pprint(file)"
   ]
  },
  {
   "cell_type": "code",
   "execution_count": null,
   "metadata": {
    "collapsed": true
   },
   "outputs": [],
   "source": [
    "# Create a new Revision (version) of the new File by uploading a local file\n",
    "revision = upload_revision(session, file, '/Users/barry/Desktop/example.vcf')\n",
    "pprint(revision)"
   ]
  },
  {
   "cell_type": "code",
   "execution_count": 10,
   "metadata": {
    "collapsed": false
   },
   "outputs": [
    {
     "name": "stderr",
     "output_type": "stream",
     "text": [
      "gephi-0.9.1-macos.dmg: 28.0GB [00:08, 3.39GB/s]\n"
     ]
    },
    {
     "data": {
      "text/plain": [
       "{'_id': '5723083e-a6d6-40b5-a713-e3102c0da3d5',\n",
       " '_rev': '3-685cf0388fd2a5fb480bdc28576a01ee',\n",
       " 'api_version': 4,\n",
       " 'attributes': {'content_length': 121072835,\n",
       "  'content_type': 'application/x-apple-diskimage',\n",
       "  'created-at': '2016-09-22T19:48:50.351Z',\n",
       "  'file_id': 'e6cbeb85-5a40-4233-8937-bc374e26b0b1',\n",
       "  'name': 'gephi-0.9.1-macos.dmg',\n",
       "  'previous': [],\n",
       "  'updated-at': '2016-09-22T19:49:01.003Z',\n",
       "  'url': 'https://services.ovation.io/resources/533760',\n",
       "  'version_id': 'sBSrY4YdWA1LAvfL5SoI5nKQ3jKX.YKX'},\n",
       " 'links': {'_collaboration_roots': ['2525ad8c-7b2f-4ba0-8ab1-f4a25b773708'],\n",
       "  'notes': '/api/v1/entities/5723083e-a6d6-40b5-a713-e3102c0da3d5/annotations/notes',\n",
       "  'properties': '/api/v1/entities/5723083e-a6d6-40b5-a713-e3102c0da3d5/annotations/properties',\n",
       "  'self': '/api/v1/revisions/5723083e-a6d6-40b5-a713-e3102c0da3d5',\n",
       "  'tags': '/api/v1/entities/5723083e-a6d6-40b5-a713-e3102c0da3d5/annotations/tags',\n",
       "  'timeline-events': '/api/v1/entities/5723083e-a6d6-40b5-a713-e3102c0da3d5/annotations/timeline_events',\n",
       "  'upload-complete': '/api/v1/revisions/5723083e-a6d6-40b5-a713-e3102c0da3d5/upload-complete'},\n",
       " 'owner': '5162ef4f-8c57-4c2c-8e35-2a3f4f114275',\n",
       " 'permissions': {'create': True, 'delete': True, 'update': True},\n",
       " 'relationships': {'activities': {'related': '/api/v1/revisions/5723083e-a6d6-40b5-a713-e3102c0da3d5/links/activities',\n",
       "   'self': '/api/v1/revisions/5723083e-a6d6-40b5-a713-e3102c0da3d5/links/activities/relationships'},\n",
       "  'file': {'related': '/api/v1/revisions/5723083e-a6d6-40b5-a713-e3102c0da3d5/links/file',\n",
       "   'self': '/api/v1/revisions/5723083e-a6d6-40b5-a713-e3102c0da3d5/links/file/relationships'},\n",
       "  'origins': {'related': '/api/v1/revisions/5723083e-a6d6-40b5-a713-e3102c0da3d5/links/origins',\n",
       "   'self': '/api/v1/revisions/5723083e-a6d6-40b5-a713-e3102c0da3d5/links/origins/relationships'},\n",
       "  'procedures': {'related': '/api/v1/revisions/5723083e-a6d6-40b5-a713-e3102c0da3d5/links/procedures',\n",
       "   'self': '/api/v1/revisions/5723083e-a6d6-40b5-a713-e3102c0da3d5/links/procedures/relationships'}},\n",
       " 'type': 'Revision'}"
      ]
     },
     "execution_count": 10,
     "metadata": {},
     "output_type": "execute_result"
    }
   ],
   "source": [
    "upload_file(session, proj, '/Users/barry/Downloads/gephi-0.9.1-macos.dmg')"
   ]
  },
  {
   "cell_type": "markdown",
   "metadata": {},
   "source": [
    "## Download a revision"
   ]
  },
  {
   "cell_type": "markdown",
   "metadata": {},
   "source": [
    "The Ovation API generates a temporary authenticated URL for downloading a Revision. This example uses the `ovation.revisions.download_revision` function to get this authenticated URL."
   ]
  },
  {
   "cell_type": "code",
   "execution_count": null,
   "metadata": {
    "collapsed": true
   },
   "outputs": [],
   "source": [
    "info = download_revision(session, revision._id)\n",
    "pprint(info)"
   ]
  },
  {
   "cell_type": "code",
   "execution_count": null,
   "metadata": {
    "collapsed": true
   },
   "outputs": [],
   "source": []
  }
 ],
 "metadata": {
  "kernelspec": {
   "display_name": "Python 3",
   "language": "python",
   "name": "python3"
  },
  "language_info": {
   "codemirror_mode": {
    "name": "ipython",
    "version": 3
   },
   "file_extension": ".py",
   "mimetype": "text/x-python",
   "name": "python",
   "nbconvert_exporter": "python",
   "pygments_lexer": "ipython3",
   "version": "3.5.2"
  }
 },
 "nbformat": 4,
 "nbformat_minor": 0
}
