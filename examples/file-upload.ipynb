{
 "cells": [
  {
   "cell_type": "markdown",
   "metadata": {},
   "source": [
    "# File (`Revision`) upload example"
   ]
  },
  {
   "cell_type": "markdown",
   "metadata": {},
   "source": [
    "To run this example, you'll need the Ovation Python API. Install with `pip`:\n",
    "\n",
    "    pip install ovation"
   ]
  },
  {
   "cell_type": "code",
   "execution_count": null,
   "metadata": {
    "collapsed": true
   },
   "outputs": [],
   "source": [
    "from ovation.connection import connect\n",
    "from ovation.revisions import upload_revision, download_revision\n",
    "\n",
    "from pprint import pprint\n",
    "from getpass import getpass"
   ]
  },
  {
   "cell_type": "markdown",
   "metadata": {},
   "source": [
    "## Connection"
   ]
  },
  {
   "cell_type": "markdown",
   "metadata": {},
   "source": [
    "You use a `connection.Session` to interact with the Ovaiton REST API. Use the `connect` method to create an authenticated `Session`. You can provide your Ovation password with the `password=` parameter, but please keep your Ovation password secure. **Don't put your password in your source code**. It's much better to let `connect` prompt you for your password when needed. For scripts run on the server, it's best to provide your password via an environment variable:\n",
    "\n",
    "    connect(my_email, password=os.environ['OVATION_PASSWORD'])\n",
    "    \n",
    "for example."
   ]
  },
  {
   "cell_type": "code",
   "execution_count": null,
   "metadata": {
    "collapsed": false
   },
   "outputs": [],
   "source": [
    "email = input('Ovation email: ')"
   ]
  },
  {
   "cell_type": "code",
   "execution_count": null,
   "metadata": {
    "collapsed": false
   },
   "outputs": [],
   "source": [
    "session = connect(email)"
   ]
  },
  {
   "cell_type": "markdown",
   "metadata": {},
   "source": [
    "## Upload a file (revision)"
   ]
  },
  {
   "cell_type": "markdown",
   "metadata": {},
   "source": [
    "The Python API wraps the Ovation [REST API](https://api.ovation.io/), using the awesome [`requests`](http://docs.python-requests.org/en/master/) library. The `Session` provides some convenient additions to make working with Ovation's API a little easier. For example, it automatically sets the content type to JSON and handles URL creation from path and host.\n",
    "\n",
    "The example below shows retrieving a project by ID, adding a new `File` and uploading a new `Revision` (a version) of that file using the `ovation.revisions.upload_revision` convenience method."
   ]
  },
  {
   "cell_type": "code",
   "execution_count": null,
   "metadata": {
    "collapsed": true
   },
   "outputs": [],
   "source": [
    "project_id = input('Project UUID: ')"
   ]
  },
  {
   "cell_type": "code",
   "execution_count": null,
   "metadata": {
    "collapsed": false
   },
   "outputs": [],
   "source": [
    "# Get a project by ID\n",
    "#project_id = 'f2bfa3da-7eae-45c4-80a5-9e9a3588a237'\n",
    "project_url = '/api/v1/projects/{}'.format(project_id)\n",
    "r = session.get(project_url)\n",
    "proj = r['project']"
   ]
  },
  {
   "cell_type": "code",
   "execution_count": null,
   "metadata": {
    "collapsed": false,
    "scrolled": true
   },
   "outputs": [],
   "source": [
    "# Create a new File\n",
    "r = session.post(project_url, \n",
    "                 data={'entities': [{'type': 'File',\n",
    "                                     'attributes': {'name': 'example.vcf'}}]})\n",
    "file = r['entities'][0]\n",
    "pprint(file)"
   ]
  },
  {
   "cell_type": "code",
   "execution_count": null,
   "metadata": {
    "collapsed": false,
    "scrolled": true
   },
   "outputs": [],
   "source": [
    "# Create a new Revision (version) of the new File by uploading a local file\n",
    "revision = upload_revision(session, file, '/Users/barry/Desktop/example.vcf')\n",
    "pprint(revision)"
   ]
  },
  {
   "cell_type": "markdown",
   "metadata": {},
   "source": [
    "## Download a revision"
   ]
  },
  {
   "cell_type": "markdown",
   "metadata": {},
   "source": [
    "The Ovation API generates a temporary authenticated URL for downloading a Revision. This example uses the `ovation.revisions.download_revision` function to get this authenticated URL."
   ]
  },
  {
   "cell_type": "code",
   "execution_count": null,
   "metadata": {
    "collapsed": false
   },
   "outputs": [],
   "source": [
    "info = download_revision(session, revision)\n",
    "pprint(info)"
   ]
  },
  {
   "cell_type": "code",
   "execution_count": null,
   "metadata": {
    "collapsed": true
   },
   "outputs": [],
   "source": []
  }
 ],
 "metadata": {
  "kernelspec": {
   "display_name": "Python 2",
   "language": "python",
   "name": "python2"
  },
  "language_info": {
   "codemirror_mode": {
    "name": "ipython",
    "version": 2
   },
   "file_extension": ".py",
   "mimetype": "text/x-python",
   "name": "python",
   "nbconvert_exporter": "python",
   "pygments_lexer": "ipython2",
   "version": "2.7.11"
  }
 },
 "nbformat": 4,
 "nbformat_minor": 0
}
