{
 "cells": [
  {
   "cell_type": "markdown",
   "metadata": {},
   "source": [
    "# File (`Revision`) upload example"
   ]
  },
  {
   "cell_type": "markdown",
   "metadata": {},
   "source": [
    "To run this example, you'll need the Ovation Python API. Install with `pip`:\n",
    "\n",
    "    pip install ovation"
   ]
  },
  {
   "cell_type": "code",
   "execution_count": 1,
   "metadata": {},
   "outputs": [],
   "source": [
    "import ovation.core as core\n",
    "\n",
    "from ovation.session import connect\n",
    "from ovation.upload import upload_revision, upload_file, upload_folder\n",
    "from ovation.download import download_revision\n",
    "\n",
    "from pprint import pprint\n",
    "from getpass import getpass\n",
    "\n",
    "from tqdm import tqdm_notebook as tqdm"
   ]
  },
  {
   "cell_type": "markdown",
   "metadata": {},
   "source": [
    "## Connection"
   ]
  },
  {
   "cell_type": "markdown",
   "metadata": {},
   "source": [
    "You use a `connection.Session` to interact with the Ovaiton REST API. Use the `connect` method to create an authenticated `Session`."
   ]
  },
  {
   "cell_type": "code",
   "execution_count": 2,
   "metadata": {},
   "outputs": [
    {
     "name": "stdout",
     "output_type": "stream",
     "text": [
      "Ovation email: barry@ovation.io\n"
     ]
    }
   ],
   "source": [
    "session = connect(input('Ovation email: '), org=input('Organization (enter for default): ') or 0)"
   ]
  },
  {
   "cell_type": "markdown",
   "metadata": {},
   "source": [
    "## Upload a file (revision)"
   ]
  },
  {
   "cell_type": "markdown",
   "metadata": {},
   "source": [
    "The Python API wraps the Ovation [REST API](https://api.ovation.io/), using the awesome [`requests`](http://docs.python-requests.org/en/master/) library. The `Session` provides some convenient additions to make working with Ovation's API a little easier. For example, it automatically sets the content type to JSON and handles URL creation from path and host.\n",
    "\n",
    "The example below shows retrieving a project by ID, adding a new `File` and uploading a new `Revision` (a version) of that file using the `ovation.revisions.upload_revision` convenience method."
   ]
  },
  {
   "cell_type": "code",
   "execution_count": null,
   "metadata": {},
   "outputs": [],
   "source": [
    "project_id = input('Project UUID: ')"
   ]
  },
  {
   "cell_type": "code",
   "execution_count": null,
   "metadata": {},
   "outputs": [],
   "source": [
    "# Get a project by ID\n",
    "proj = session.get(session.path('project', project_id))"
   ]
  },
  {
   "cell_type": "markdown",
   "metadata": {},
   "source": [
    "You can upload an entire folder or individual files to the Project. First, let's upload a folder:"
   ]
  },
  {
   "cell_type": "code",
   "execution_count": null,
   "metadata": {
    "collapsed": true
   },
   "outputs": [],
   "source": [
    "folder = upload_folder(session, proj, '/path/to/project_fastq_folder')"
   ]
  },
  {
   "cell_type": "markdown",
   "metadata": {},
   "source": [
    "Alternatively, we can create a folder and upload individual files:"
   ]
  },
  {
   "cell_type": "code",
   "execution_count": null,
   "metadata": {
    "collapsed": true
   },
   "outputs": [],
   "source": [
    "import os\n",
    "\n",
    "folder = core.create_folder(session, proj, 'FASTQ')\n",
    "for f in os.glob('/path/to/project_fastq_folder/*.fastq')"
   ]
  },
  {
   "cell_type": "markdown",
   "metadata": {},
   "source": [
    "For advanced users, we can create a `File` and then upload a `Revision`. "
   ]
  },
  {
   "cell_type": "code",
   "execution_count": null,
   "metadata": {
    "collapsed": true
   },
   "outputs": [],
   "source": [
    "# Create a new File\n",
    "r = session.post(project_url, \n",
    "                 data={'entities': [{'type': 'File',\n",
    "                                     'attributes': {'name': 'example.vcf'}}]})\n",
    "file = r[0]\n",
    "pprint(file)"
   ]
  },
  {
   "cell_type": "code",
   "execution_count": null,
   "metadata": {
    "collapsed": true
   },
   "outputs": [],
   "source": [
    "# Create a new Revision (version) of the new File by uploading a local file\n",
    "revision = upload_revision(session, file, '/Users/barry/Desktop/example.vcf')\n",
    "pprint(revision)"
   ]
  },
  {
   "cell_type": "markdown",
   "metadata": {},
   "source": [
    "`upload_revision` is also how you can upload a new `Revision` to an existing file."
   ]
  },
  {
   "cell_type": "markdown",
   "metadata": {},
   "source": [
    "## Download a revision"
   ]
  },
  {
   "cell_type": "markdown",
   "metadata": {},
   "source": [
    "The Ovation API generates a temporary authenticated URL for downloading a Revision. This example uses the `ovation.revisions.download_revision` function to get this authenticated URL and then to download it to the local file system, returning the downloaded file's path:"
   ]
  },
  {
   "cell_type": "code",
   "execution_count": null,
   "metadata": {
    "collapsed": true
   },
   "outputs": [],
   "source": [
    "file_path = download_revision(session, revision._id)"
   ]
  }
 ],
 "metadata": {
  "kernelspec": {
   "display_name": "Python 3",
   "language": "python",
   "name": "python3"
  },
  "language_info": {
   "codemirror_mode": {
    "name": "ipython",
    "version": 3
   },
   "file_extension": ".py",
   "mimetype": "text/x-python",
   "name": "python",
   "nbconvert_exporter": "python",
   "pygments_lexer": "ipython3",
   "version": "3.5.2"
  }
 },
 "nbformat": 4,
 "nbformat_minor": 1
}
