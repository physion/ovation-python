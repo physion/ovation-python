{
 "cells": [
  {
   "cell_type": "markdown",
   "metadata": {},
   "source": [
    "# Download sample result files"
   ]
  },
  {
   "cell_type": "markdown",
   "metadata": {},
   "source": [
    "## Setup"
   ]
  },
  {
   "cell_type": "code",
   "execution_count": null,
   "metadata": {},
   "outputs": [],
   "source": [
    "import ovation.lab.constants as constants\n",
    "import ovation.lab.results as results\n",
    "import ovation.download as dowload\n",
    "\n",
    "from ovation.lab.session import connect"
   ]
  },
  {
   "cell_type": "markdown",
   "metadata": {},
   "source": [
    "## Connection"
   ]
  },
  {
   "cell_type": "code",
   "execution_count": null,
   "metadata": {},
   "outputs": [],
   "source": [
    "s = connect(input(\"Email: \"), api='https://lab-services-staging.ovation.io')"
   ]
  },
  {
   "cell_type": "markdown",
   "metadata": {},
   "source": [
    "## Find fastq results for samples in batch"
   ]
  },
  {
   "cell_type": "code",
   "execution_count": null,
   "metadata": {},
   "outputs": [],
   "source": [
    "batch = input(\"Batch (workflow ID): \")"
   ]
  },
  {
   "cell_type": "markdown",
   "metadata": {},
   "source": [
    "`results.get_sample_results` pulls all `WorkflowSampleResults` for the given batch and result type. In the workflow, Ovation associated each _file_ with its corresponding sample, and created a `WorkflowSampleResult` that referenced the uploaded _file_. "
   ]
  },
  {
   "cell_type": "code",
   "execution_count": null,
   "metadata": {},
   "outputs": [],
   "source": [
    "fastq_results = results.get_sample_results(s, result_type='fastq', workflow_id=2418)"
   ]
  },
  {
   "cell_type": "markdown",
   "metadata": {},
   "source": [
    "`results.get_file_urls` retrieves temporary, pre-signed download URLs for each file `Resource` described by the `WorkflowSampleResults`."
   ]
  },
  {
   "cell_type": "code",
   "execution_count": null,
   "metadata": {},
   "outputs": [],
   "source": [
    "urls = results.get_file_urls(s, fastq_results)"
   ]
  },
  {
   "cell_type": "markdown",
   "metadata": {},
   "source": [
    "`urls` is a list of dictionaries that have a `\"url\"` attribute and an `\"etag\"` attribute. You can use the pre-signed `\"url\"` to read/download the file. The `etag` is like a \"version\" of the file. If the file has changed, the `etag` will change too.\n",
    "\n",
    "Using `download.download_urls`, you can download all of the files to the local file system. `download_urls` runs downloads in parallel."
   ]
  },
  {
   "cell_type": "code",
   "execution_count": null,
   "metadata": {},
   "outputs": [],
   "source": [
    "download.download_urls([d['url'] for d in urls])"
   ]
  }
 ],
 "metadata": {
  "kernelspec": {
   "display_name": "Python 3",
   "language": "python",
   "name": "python3"
  },
  "language_info": {
   "codemirror_mode": {
    "name": "ipython",
    "version": 3
   },
   "file_extension": ".py",
   "mimetype": "text/x-python",
   "name": "python",
   "nbconvert_exporter": "python",
   "pygments_lexer": "ipython3",
   "version": "3.7.3"
  }
 },
 "nbformat": 4,
 "nbformat_minor": 2
}
