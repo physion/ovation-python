{
 "cells": [
  {
   "cell_type": "markdown",
   "metadata": {},
   "source": [
    "# Download sample result files"
   ]
  },
  {
   "cell_type": "markdown",
   "metadata": {},
   "source": [
    "## Setup"
   ]
  },
  {
   "cell_type": "code",
   "execution_count": 22,
   "metadata": {},
   "outputs": [
    {
     "ename": "ModuleNotFoundError",
     "evalue": "No module named 'ovation.lab.results'",
     "output_type": "error",
     "traceback": [
      "\u001b[0;31m---------------------------------------------------------------------------\u001b[0m",
      "\u001b[0;31mModuleNotFoundError\u001b[0m                       Traceback (most recent call last)",
      "\u001b[0;32m<ipython-input-22-fb8821345130>\u001b[0m in \u001b[0;36m<module>\u001b[0;34m()\u001b[0m\n\u001b[1;32m      1\u001b[0m \u001b[0;32mimport\u001b[0m \u001b[0movation\u001b[0m\u001b[0;34m.\u001b[0m\u001b[0mlab\u001b[0m\u001b[0;34m.\u001b[0m\u001b[0mconstants\u001b[0m \u001b[0;32mas\u001b[0m \u001b[0mconstants\u001b[0m\u001b[0;34m\u001b[0m\u001b[0;34m\u001b[0m\u001b[0m\n\u001b[0;32m----> 2\u001b[0;31m \u001b[0;32mimport\u001b[0m \u001b[0movation\u001b[0m\u001b[0;34m.\u001b[0m\u001b[0mlab\u001b[0m\u001b[0;34m.\u001b[0m\u001b[0mresults\u001b[0m \u001b[0;32mas\u001b[0m \u001b[0mresults\u001b[0m\u001b[0;34m\u001b[0m\u001b[0;34m\u001b[0m\u001b[0m\n\u001b[0m\u001b[1;32m      3\u001b[0m \u001b[0;34m\u001b[0m\u001b[0m\n\u001b[1;32m      4\u001b[0m \u001b[0;32mfrom\u001b[0m \u001b[0movation\u001b[0m\u001b[0;34m.\u001b[0m\u001b[0mlab\u001b[0m\u001b[0;34m.\u001b[0m\u001b[0msession\u001b[0m \u001b[0;32mimport\u001b[0m \u001b[0mconnect\u001b[0m\u001b[0;34m\u001b[0m\u001b[0;34m\u001b[0m\u001b[0m\n",
      "\u001b[0;31mModuleNotFoundError\u001b[0m: No module named 'ovation.lab.results'"
     ]
    }
   ],
   "source": [
    "import ovation.lab.constants as constants\n",
    "import ovation.lab.results as results\n",
    "import ovation.download as dowload\n",
    "\n",
    "from ovation.lab.session import connect"
   ]
  },
  {
   "cell_type": "markdown",
   "metadata": {},
   "source": [
    "## Connection"
   ]
  },
  {
   "cell_type": "code",
   "execution_count": 4,
   "metadata": {},
   "outputs": [
    {
     "name": "stdin",
     "output_type": "stream",
     "text": [
      "Email:  barry@ovation.io\n",
      "Ovation API token:  ·································································································································································································································\n"
     ]
    }
   ],
   "source": [
    "s = connect(input(\"Email: \"), api='https://lab-services-staging.ovation.io')"
   ]
  },
  {
   "cell_type": "markdown",
   "metadata": {},
   "source": [
    "## Find fastq results for samples in batch"
   ]
  },
  {
   "cell_type": "code",
   "execution_count": 5,
   "metadata": {},
   "outputs": [
    {
     "name": "stdin",
     "output_type": "stream",
     "text": [
      "Batch (workflow ID):  2418\n"
     ]
    }
   ],
   "source": [
    "batch = input(\"Batch (workflow ID): \")"
   ]
  },
  {
   "cell_type": "markdown",
   "metadata": {},
   "source": [
    "`results.get_sample_results` pulls all `WorkflowSampleResults` for the given batch and result type. In the workflow, Ovation associated each _file_ with its corresponding sample, and created a `WorkflowSampleResult` that referenced the uploaded _file_. "
   ]
  },
  {
   "cell_type": "code",
   "execution_count": 21,
   "metadata": {},
   "outputs": [
    {
     "ename": "NameError",
     "evalue": "name 'results' is not defined",
     "output_type": "error",
     "traceback": [
      "\u001b[0;31m---------------------------------------------------------------------------\u001b[0m",
      "\u001b[0;31mNameError\u001b[0m                                 Traceback (most recent call last)",
      "\u001b[0;32m<ipython-input-21-029c735090b4>\u001b[0m in \u001b[0;36m<module>\u001b[0;34m()\u001b[0m\n\u001b[0;32m----> 1\u001b[0;31m \u001b[0mfastq_results\u001b[0m \u001b[0;34m=\u001b[0m \u001b[0mresults\u001b[0m\u001b[0;34m.\u001b[0m\u001b[0mget_sample_results\u001b[0m\u001b[0;34m(\u001b[0m\u001b[0ms\u001b[0m\u001b[0;34m,\u001b[0m \u001b[0mworkflow_id\u001b[0m\u001b[0;34m=\u001b[0m\u001b[0;36m2418\u001b[0m\u001b[0;34m)\u001b[0m\u001b[0;34m\u001b[0m\u001b[0;34m\u001b[0m\u001b[0m\n\u001b[0m",
      "\u001b[0;31mNameError\u001b[0m: name 'results' is not defined"
     ]
    }
   ],
   "source": [
    "fastq_results = results.get_sample_results(s, result_type='fastq', workflow_id=2418)"
   ]
  },
  {
   "cell_type": "markdown",
   "metadata": {},
   "source": [
    "`results.get_file_urls` retrieves temporary, pre-signed download URLs for each file `Resource` described by the `WorkflowSampleResults`."
   ]
  },
  {
   "cell_type": "code",
   "execution_count": 14,
   "metadata": {},
   "outputs": [
    {
     "ename": "AttributeError",
     "evalue": "'DataDict' object has no attribute 'id'",
     "output_type": "error",
     "traceback": [
      "\u001b[0;31m---------------------------------------------------------------------------\u001b[0m",
      "\u001b[0;31mAttributeError\u001b[0m                            Traceback (most recent call last)",
      "\u001b[0;32m<ipython-input-14-2194e3d05340>\u001b[0m in \u001b[0;36m<module>\u001b[0;34m()\u001b[0m\n\u001b[0;32m----> 1\u001b[0;31m \u001b[0msamples\u001b[0m \u001b[0;34m=\u001b[0m \u001b[0ms\u001b[0m\u001b[0;34m.\u001b[0m\u001b[0mget\u001b[0m\u001b[0;34m(\u001b[0m\u001b[0ms\u001b[0m\u001b[0;34m.\u001b[0m\u001b[0mpath\u001b[0m\u001b[0;34m(\u001b[0m\u001b[0;34m'samples'\u001b[0m\u001b[0;34m)\u001b[0m\u001b[0;34m,\u001b[0m \u001b[0mworkflow_id\u001b[0m\u001b[0;34m=\u001b[0m\u001b[0mwf\u001b[0m\u001b[0;34m.\u001b[0m\u001b[0mid\u001b[0m\u001b[0;34m)\u001b[0m\u001b[0;34m\u001b[0m\u001b[0;34m\u001b[0m\u001b[0m\n\u001b[0m",
      "\u001b[0;31mAttributeError\u001b[0m: 'DataDict' object has no attribute 'id'"
     ]
    }
   ],
   "source": [
    "urls = results.get_file_urls(s, fastq_results)"
   ]
  },
  {
   "cell_type": "markdown",
   "metadata": {},
   "source": [
    "`urls` is a list of dictionaries that have a `\"url\"` attribute and an `\"etag\"` attribute. You can use the pre-signed `\"url\"` to read/download the file. The `etag` is like a \"version\" of the file. If the file has changed, the `etag` will change too.\n",
    "\n",
    "Using `download.download_urls`, you can download all of the files to the local file system. `download_urls` runs downloads in parallel."
   ]
  },
  {
   "cell_type": "code",
   "execution_count": 19,
   "metadata": {},
   "outputs": [
    {
     "data": {
      "text/plain": [
       "[{'id': 5662,\n",
       "  'name': 'ION Sequencing Results',\n",
       "  'created_at': '2019-04-03T17:17:42.000Z',\n",
       "  'configuration': {'maxBatchSize': 64,\n",
       "   'sampleStartLabel': 'gDNA',\n",
       "   'isRepeatWorkflow': False,\n",
       "   'controls': [],\n",
       "   'activities': [{'activityType': 'batch-creation',\n",
       "     'name': 'Create batch',\n",
       "     'label': 'ion-sequencing-results-batch-creation'},\n",
       "    {'activityType': 'file-upload',\n",
       "     'name': 'Upload results',\n",
       "     'label': 'ion-sequencing-results-results-upload',\n",
       "     'attributes': {'resources': [{'label': 'fastq-file',\n",
       "        'name': 'FASTQ Files',\n",
       "        'helpText': 'Upload FASTQ files (one per sample)',\n",
       "        'required': True},\n",
       "       {'label': 'vcf-file',\n",
       "        'name': 'VCF Files',\n",
       "        'helpText': 'Upload VCF files (one per sample)',\n",
       "        'required': True},\n",
       "       {'label': 'report-file',\n",
       "        'name': 'Patient Reports',\n",
       "        'helpText': 'Upload Report PDF files here (One per sample)',\n",
       "        'required': True}],\n",
       "      'associateFiles': [{'label': 'report-file',\n",
       "        'regex': '(.+)_(.*).pdf$',\n",
       "        'position': 1,\n",
       "        'resultType': 'report',\n",
       "        'assay': 'file'},\n",
       "       {'label': 'fastq-file',\n",
       "        'regex': '^(.+).fastq$',\n",
       "        'position': 1,\n",
       "        'resultType': 'fastq',\n",
       "        'assay': 'file'},\n",
       "       {'label': 'vcf-file',\n",
       "        'regex': '^(.+).vcf$',\n",
       "        'position': 1,\n",
       "        'resultType': 'vcf',\n",
       "        'assay': 'file'}]},\n",
       "     'parents': ['ion-sequencing-results-batch-creation']},\n",
       "    {'activityType': 'quality-checks',\n",
       "     'name': 'Patient Report QC',\n",
       "     'label': 'ion-sequencing-results-patient-report-quality-check',\n",
       "     'attributes': {'rejectableAssays': False,\n",
       "      'staticResultStatus': 'File uploaded',\n",
       "      'resultTypes': ['fastq', 'vcf', 'report'],\n",
       "      'status': [{'label': 'Accept',\n",
       "        'queues': [],\n",
       "        'status': 'accepted',\n",
       "        'routing': 'accepted'},\n",
       "       {'label': 'Repeat sequencing',\n",
       "        'queues': ['ion-sequencing'],\n",
       "        'status': 'repeat',\n",
       "        'routing': 'repeat'},\n",
       "       {'label': 'Reject',\n",
       "        'queues': ['reject'],\n",
       "        'status': 'rejected',\n",
       "        'routing': 'rejected'}]},\n",
       "     'parents': ['ion-sequencing-results-results-upload']}]},\n",
       "  'workflow_type': 'ion-sequencing-results',\n",
       "  'organization_id': 13,\n",
       "  'graph': None,\n",
       "  'generate_reports': True}]"
      ]
     },
     "execution_count": 19,
     "metadata": {},
     "output_type": "execute_result"
    }
   ],
   "source": [
    "download.download_urls([d['url'] for d in urls])"
   ]
  }
 ],
 "metadata": {
  "kernelspec": {
   "display_name": "Python 3",
   "language": "python",
   "name": "python3"
  },
  "language_info": {
   "codemirror_mode": {
    "name": "ipython",
    "version": 3
   },
   "file_extension": ".py",
   "mimetype": "text/x-python",
   "name": "python",
   "nbconvert_exporter": "python",
   "pygments_lexer": "ipython3",
   "version": "3.6.8"
  }
 },
 "nbformat": 4,
 "nbformat_minor": 2
}
