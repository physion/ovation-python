{
 "cells": [
  {
   "cell_type": "markdown",
   "metadata": {},
   "source": [
    "# Activities"
   ]
  },
  {
   "cell_type": "markdown",
   "metadata": {},
   "source": [
    "This example shows how to create an `Activity` record, linking inputs, outputs and related files."
   ]
  },
  {
   "cell_type": "code",
   "execution_count": null,
   "metadata": {
    "collapsed": true
   },
   "outputs": [],
   "source": [
    "import ovation as ov\n",
    "import ovation.activities as activities\n",
    "import ovation.download as download\n",
    "\n",
    "from ovation.session import connect\n",
    "from tqdm import tqdm_notebook\n",
    "from pprint import pprint"
   ]
  },
  {
   "cell_type": "markdown",
   "metadata": {
    "collapsed": true
   },
   "source": [
    "## Connection"
   ]
  },
  {
   "cell_type": "code",
   "execution_count": 3,
   "metadata": {},
   "outputs": [
    {
     "name": "stdout",
     "output_type": "stream",
     "text": [
      "Email: barry@ovation.io\n",
      "Organization (enter for default): 440\n"
     ]
    }
   ],
   "source": [
    "s = connect(input('Email: '), org=int(input(\"Organization (enter for default): \") or 0))"
   ]
  },
  {
   "cell_type": "markdown",
   "metadata": {},
   "source": [
    "## Create a new activity"
   ]
  },
  {
   "cell_type": "markdown",
   "metadata": {},
   "source": [
    "When creating an activity, you can specify the inputs, outputs and related files at the time of creation. Don't worry if you don't know all of them yet. You can also add and remove inputs, outputs, and related files later."
   ]
  },
  {
   "cell_type": "markdown",
   "metadata": {},
   "source": [
    "Activity inputs are specified as an array of UUIDs or entity `dicts` and can be either `Revisions` or `Sources`. You can use the local path of a file. Local files will be uploaded (creating associated `File` and `Reivision` records)."
   ]
  },
  {
   "cell_type": "code",
   "execution_count": null,
   "metadata": {
    "collapsed": true
   },
   "outputs": [],
   "source": [
    "inputs = ['181c9eb7-8450-4d59-9b5a-ede7fb984b51','181c9eb7-8450-4d59-9b5a-ede7fb984b51'] "
   ]
  },
  {
   "cell_type": "markdown",
   "metadata": {},
   "source": [
    "Activity outputs are specified as an array of UUIDs or entity `dicts` to `Revisions`. You can use the local path of a file as well. Local files will be uploaded (creating associated `File` and `Reivision` records)."
   ]
  },
  {
   "cell_type": "code",
   "execution_count": null,
   "metadata": {
    "collapsed": true
   },
   "outputs": [],
   "source": [
    "outputs = ['9744f67f-7daa-43a5-901f-8f63b5b956d4']"
   ]
  },
  {
   "cell_type": "markdown",
   "metadata": {},
   "source": [
    "`create_activity` creates the activity and associates it with the given `Project`. "
   ]
  },
  {
   "cell_type": "code",
   "execution_count": null,
   "metadata": {
    "collapsed": true
   },
   "outputs": [],
   "source": [
    "project_id = input('Project UUID: ')\n",
    "activity_name = input('Activity name: ')\n",
    "activity = activities.create_activity(s,\n",
    "                                      project_id,\n",
    "                                      activity_name, \n",
    "                                      inputs=inputs, outputs=outputs)"
   ]
  },
  {
   "cell_type": "markdown",
   "metadata": {},
   "source": [
    "## Add outputs"
   ]
  },
  {
   "cell_type": "markdown",
   "metadata": {},
   "source": [
    "After creation, you can modify the inputs, outputs, and related files of an Activity. Of course, it's a good idea to do this carefully if downstream results depend on the results of this Activity. Inputs, outputs, and related files are added and removed in the same way (using `add_inputs`, `remove_inputs`; `add_outputs`, `remove_outputs`; `add_related`, and `remove_related`). This example shows how to add a new output to the activity:"
   ]
  },
  {
   "cell_type": "code",
   "execution_count": null,
   "metadata": {
    "collapsed": true
   },
   "outputs": [],
   "source": [
    "activites.add_outputs(s, activity, outputs=['local/file/analysis_result.csv'])"
   ]
  },
  {
   "cell_type": "markdown",
   "metadata": {},
   "source": [
    "To remove an `output`, use `remove_oututs`:"
   ]
  },
  {
   "cell_type": "code",
   "execution_count": null,
   "metadata": {
    "collapsed": true
   },
   "outputs": [],
   "source": [
    "activites.remove_outputs(s, activity, outputs=['181c9eb7-8450-4d59-9b5a-ede7fb984b51'])"
   ]
  },
  {
   "cell_type": "markdown",
   "metadata": {},
   "source": [
    "## A complete workflow"
   ]
  },
  {
   "cell_type": "markdown",
   "metadata": {},
   "source": [
    "It's common to create an activity from exsting inputs, download the activity inputs and run an analysis and then upload the results as outputs to the activity. This example shows this common workflow:"
   ]
  },
  {
   "cell_type": "code",
   "execution_count": null,
   "metadata": {
    "collapsed": true
   },
   "outputs": [],
   "source": [
    "# Collect information\n",
    "project_id = input('Project UUID: ')\n",
    "activity_name = input('Activity name: ')\n",
    "\n",
    "# Create the activity\n",
    "activity = activities.create_activity(s,\n",
    "                                      project_id,\n",
    "                                      activity_name, \n",
    "                                      inputs=inputs)\n",
    "\n",
    "## Download inputs to the workding directory. \n",
    "# For simplicity, we use a for loop. For faster downloads, \n",
    "# consider using a multiprocessing.Pool to map over the inputs\n",
    "inputs = s.get(activity.relationships.inputs.related)\n",
    "for revision in inputs:\n",
    "    download.download_revision(s, revision, progress=tqdm_notebook)\n",
    "    \n",
    "    \n",
    "# DO SOME ANALYSIS\n",
    "# This part's all on you. Fortunately, you're a world expert. Go get 'em!\n",
    "\n",
    "# Upload outputs\n",
    "# In this example, analysis_result.csv is the output\n",
    "activities.add_output(s, activity, outputs=['./analysis_result.csv'])\n",
    "\n"
   ]
  }
 ],
 "metadata": {
  "kernelspec": {
   "display_name": "Python 3",
   "language": "python",
   "name": "python3"
  },
  "language_info": {
   "codemirror_mode": {
    "name": "ipython",
    "version": 3
   },
   "file_extension": ".py",
   "mimetype": "text/x-python",
   "name": "python",
   "nbconvert_exporter": "python",
   "pygments_lexer": "ipython3",
   "version": "3.5.3"
  },
  "widgets": {
   "state": {
    "7c9b7b81aa3148479ea6f5a6217aca30": {
     "views": [
      {
       "cell_index": null
      }
     ]
    }
   },
   "version": "1.2.0"
  }
 },
 "nbformat": 4,
 "nbformat_minor": 2
}
