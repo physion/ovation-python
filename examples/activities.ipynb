{
 "cells": [
  {
   "cell_type": "markdown",
   "metadata": {},
   "source": [
    "# Activities"
   ]
  },
  {
   "cell_type": "markdown",
   "metadata": {},
   "source": [
    "In Ovation, `Activities` describe the processes that capture or transform data. By linking a series of Activities, you can track the _provenance_ of your data through and across projects.\n",
    "\n",
    "An `Activity` links `inputs` (Sources or file Revisions) to `outputs` (derived Sources or new file Revisions). An `Activity` might represent an experiment (linking Sources to the data collected) or an analysis (linking raw data to analyzed results). \n",
    "\n",
    "Follow along with the steps below to create an `Activity`."
   ]
  },
  {
   "cell_type": "code",
   "execution_count": 1,
   "metadata": {
    "collapsed": true
   },
   "outputs": [],
   "source": [
    "from ovation.session import connect"
   ]
  },
  {
   "cell_type": "code",
   "execution_count": 2,
   "metadata": {},
   "outputs": [
    {
     "name": "stdout",
     "output_type": "stream",
     "text": [
      "Ovation account email: barry@ovation.io\n"
     ]
    }
   ],
   "source": [
    "session = connect(input('Ovation account email: '))"
   ]
  },
  {
   "cell_type": "markdown",
   "metadata": {},
   "source": [
    "Enter your organization ID. If you're using a Project within your \"Personal Projects\", use organization 0."
   ]
  },
  {
   "cell_type": "code",
   "execution_count": 4,
   "metadata": {},
   "outputs": [
    {
     "name": "stdout",
     "output_type": "stream",
     "text": [
      "Organization id: 0\n"
     ]
    }
   ],
   "source": [
    "org = input('Organization ID: ')"
   ]
  },
  {
   "cell_type": "markdown",
   "metadata": {},
   "source": [
    "Activities belong to a `Project`. You can get the UUID of a Project from the command line tool (`pyton -m ovation.cli ls`), from the URL of the Project in the web app (e.g. https://app.ovation.io/orgs/0/projects/ **29bd3615-b5e3-4a8b-ba36-e3b776965f3c**/), or from the `_id` attribute of a Project dictionary retrieved from the API."
   ]
  },
  {
   "cell_type": "code",
   "execution_count": 3,
   "metadata": {},
   "outputs": [
    {
     "name": "stdout",
     "output_type": "stream",
     "text": [
      "Project UUID: f2bfa3da-7eae-45c4-80a5-9e9a3588a237\n"
     ]
    }
   ],
   "source": [
    "project_id = input('Project UUID: ')"
   ]
  },
  {
   "cell_type": "code",
   "execution_count": 6,
   "metadata": {
    "collapsed": true
   },
   "outputs": [],
   "source": [
    "project = session.get(session.path('projects', project_id))"
   ]
  },
  {
   "cell_type": "markdown",
   "metadata": {},
   "source": [
    "## Inputs"
   ]
  },
  {
   "cell_type": "code",
   "execution_count": null,
   "metadata": {
    "collapsed": true
   },
   "outputs": [],
   "source": []
  },
  {
   "cell_type": "markdown",
   "metadata": {},
   "source": [
    "## Outputs"
   ]
  },
  {
   "cell_type": "code",
   "execution_count": null,
   "metadata": {
    "collapsed": true
   },
   "outputs": [],
   "source": []
  },
  {
   "cell_type": "markdown",
   "metadata": {},
   "source": [
    "## Creating an activity"
   ]
  },
  {
   "cell_type": "code",
   "execution_count": null,
   "metadata": {
    "collapsed": true
   },
   "outputs": [],
   "source": []
  }
 ],
 "metadata": {
  "kernelspec": {
   "display_name": "Python 3",
   "language": "python",
   "name": "python3"
  },
  "language_info": {
   "codemirror_mode": {
    "name": "ipython",
    "version": 3
   },
   "file_extension": ".py",
   "mimetype": "text/x-python",
   "name": "python",
   "nbconvert_exporter": "python",
   "pygments_lexer": "ipython3",
   "version": "3.5.2"
  }
 },
 "nbformat": 4,
 "nbformat_minor": 2
}
