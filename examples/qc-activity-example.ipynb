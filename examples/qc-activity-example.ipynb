{
 "cells": [
  {
   "cell_type": "markdown",
   "metadata": {},
   "source": [
    "# Quality Check API Example"
   ]
  },
  {
   "cell_type": "code",
   "execution_count": null,
   "metadata": {
    "collapsed": true
   },
   "outputs": [],
   "source": [
    "import urllib\n",
    "import ovation.lab.workflows as workflows\n",
    "import ovation.session as session"
   ]
  },
  {
   "cell_type": "markdown",
   "metadata": {},
   "source": [
    "Create a `session`. Note the api endpoint, `lab-services.ovation.io` for Ovation Service Lab."
   ]
  },
  {
   "cell_type": "code",
   "execution_count": null,
   "metadata": {
    "collapsed": true
   },
   "outputs": [],
   "source": [
    "s = session.connect(input('Email: '), api='https://lab-services.ovation.io')"
   ]
  },
  {
   "cell_type": "markdown",
   "metadata": {},
   "source": [
    "## Create a Quality Check (QC) activity"
   ]
  },
  {
   "cell_type": "markdown",
   "metadata": {},
   "source": [
    "A QC activity determines the status of results for each Sample in a Workflow. Normally, QC activities are handled in the web application, but you can submit a new activity with the necessary information to complete the QC programaticallly."
   ]
  },
  {
   "cell_type": "markdown",
   "metadata": {},
   "source": [
    "First, we'll need a workflow and the label of the QC activity `WorkflowActivity`:"
   ]
  },
  {
   "cell_type": "code",
   "execution_count": null,
   "metadata": {
    "collapsed": true
   },
   "outputs": [],
   "source": [
    "workflow_id = input('Workflow ID: ')"
   ]
  },
  {
   "cell_type": "code",
   "execution_count": null,
   "metadata": {
    "collapsed": true
   },
   "outputs": [],
   "source": [
    "qc_activity_label = input('QC activity label: ')"
   ]
  },
  {
   "cell_type": "markdown",
   "metadata": {},
   "source": [
    "Next, we'll get the `WorkflowSampleResults` for the batch. Each `WorkflowSampleResult` contains the parsed data for a single `Sample` within the batch. Each `WorkflowSampleResult` has a `result_type` that distinguishes each kind of data."
   ]
  },
  {
   "cell_type": "code",
   "execution_count": null,
   "metadata": {
    "collapsed": true
   },
   "outputs": [],
   "source": [
    "result_type = input('Result type: ')"
   ]
  },
  {
   "cell_type": "code",
   "execution_count": null,
   "metadata": {
    "collapsed": true
   },
   "outputs": [],
   "source": [
    "workflow_sample_results = s.get(s.path('workflow_sample_results'), params={'workflow_id': workflow_id, \n",
    "                                                                                  'result_type': result_type})\n",
    "workflow_sample_results"
   ]
  },
  {
   "cell_type": "markdown",
   "metadata": {},
   "source": [
    "Within each `WorkflowSampleResult` you should see a `result` object containing records for each _assay_. In most cases, the results parser created a _record_ for each line in an uploaded tabular (csv or tab-delimited) file. When that record has an entry identifiying the _sample_ and an entry identifying the _assay_, the parser places that record into the `WorkflowSampleResult` for the corresponding Workflow Sample, result type, and assay. If more than one record matches this Sample > Result type > Assay, it will be appended to the records for that sample, result type, and assay.\n",
    "\n",
    "A QC activity updates the status of assays and entire Workflow Sample Results. Each assay may recieve a status (\"accepted\", \"rejected\", or \"repeat\") indicating the QC outcome of that assay for a particular sample. In addition, the WorkflowSampleResult has a global status indicating the overall QC outcome for that sample and result type. Individual assay statuses may be used on repeat to determine which assays need to be repeated. The global status determines how the sample is routed following QC. In fact, there can be multiple routing options for each status (e.g. an \"Accept and process for workflow A\" and \"Accept and process for workflow B\" options). Ovation internally uses a `routing` value to indicate (uniquely) which routing option to chose from the configuration. In many cases `routing` is the same as `status` (but not always).\n",
    "\n",
    "`WorkflowSampleResult` and assay statuses are set (overriding any existing status) by creating a QC activity, passing the updated status for each workflow sample result and contained assay(s).\n",
    "\n",
    "In this example, we'll randomly choose statuses for each of the workflow samples above:"
   ]
  },
  {
   "cell_type": "code",
   "execution_count": null,
   "metadata": {
    "collapsed": true
   },
   "outputs": [],
   "source": [
    "import random\n",
    "WSR_STATUS = [\"accepted\", \"rejected\", \"repeat\"]\n",
    "ASSAY_STATUS = [\"accepted\", \"rejected\"]\n",
    "\n",
    "qc_results = []\n",
    "for wsr in workflow_sample_results:\n",
    "    assay_results = {}\n",
    "    for assay_name, assay in wsr.result.items():\n",
    "        assay_results[assay_name] = {\"status\": random.choice(ASSAY_STATUS)}\n",
    "        \n",
    "    wsr_status = random.choice(WSR_STATUS)\n",
    "    \n",
    "    result = {'id': wsr.id,\n",
    "             'result_type': wsr.result_type,\n",
    "             'status': wsr_status,\n",
    "             'routing': wsr_status,\n",
    "             'result': assay_results}\n",
    "    \n",
    "    qc_results.append(result)\n"
   ]
  },
  {
   "cell_type": "markdown",
   "metadata": {},
   "source": [
    "The `activity` data we POST will look like this:"
   ]
  },
  {
   "cell_type": "markdown",
   "metadata": {},
   "source": [
    "```{\"workflow_sample_results\": [{\"id\": WORKFLOW_SAMPLE_RESULT_ID,\n",
    "                                    \"result_type\": RESULT_TYPE,\n",
    "                                    \"status\":\"accepted\"|\"rejected\"|\"repeat\",\n",
    "                                    \"routing\":\"accepted\",\n",
    "                                    \"result\":{ASSAY:{\"status\":\"accepted\"|\"rejected\"}}},\n",
    "                                   ...]}}```"
   ]
  },
  {
   "cell_type": "code",
   "execution_count": null,
   "metadata": {
    "collapsed": true
   },
   "outputs": [],
   "source": [
    "qc = workflows.create_activity(s, workflow_id, qc_activity_label,\n",
    "                              activity={'workflow_sample_results': qc_results,\n",
    "                                       'custom_attributes': {} # Always an empty dictionary for QC activities\n",
    "                                       })"
   ]
  }
 ],
 "metadata": {
  "kernelspec": {
   "display_name": "Python 3",
   "language": "python",
   "name": "python3"
  },
  "language_info": {
   "codemirror_mode": {
    "name": "ipython",
    "version": 3
   },
   "file_extension": ".py",
   "mimetype": "text/x-python",
   "name": "python",
   "nbconvert_exporter": "python",
   "pygments_lexer": "ipython3",
   "version": "3.5.2"
  }
 },
 "nbformat": 4,
 "nbformat_minor": 2
}
