{
 "cells": [
  {
   "cell_type": "markdown",
   "metadata": {},
   "source": [
    "# Project analysis workflow"
   ]
  },
  {
   "cell_type": "markdown",
   "metadata": {},
   "source": [
    "In this notebook, we'll walk through an RNA projectd analysis workflow in Ovation for Service Labs. Although the activities in the workflow can be accomplished using the web app (https://lab.ovation.io) to download & upload files, this notebook illustrates the API interactions to complete the workflow using existing bioinformatics tools. "
   ]
  },
  {
   "cell_type": "markdown",
   "metadata": {},
   "source": [
    "## Setup"
   ]
  },
  {
   "cell_type": "code",
   "execution_count": null,
   "metadata": {
    "collapsed": true
   },
   "outputs": [],
   "source": [
    "import urllib\n",
    "import texttable\n",
    "import os\n",
    "import glob\n",
    "\n",
    "import ovation.lab.workflows as workflows\n",
    "import ovation.lab.download as download\n",
    "\n",
    "from ovation.session import connect\n",
    "from importlib import reload\n",
    "from tqdm import tqdm_notebook as tqdm\n",
    "from pprint import pprint"
   ]
  },
  {
   "cell_type": "markdown",
   "metadata": {},
   "source": [
    "## Connection"
   ]
  },
  {
   "cell_type": "markdown",
   "metadata": {},
   "source": [
    "This interactive notebooks starts with an interactive `Session` connection. If you already have a (long-lived) API token, you can create a session with:\n",
    "\n",
    "    s = ovation.session.Session(token, api='https://lab-services.ovation.io', token='/api/v1/sessions')"
   ]
  },
  {
   "cell_type": "code",
   "execution_count": null,
   "metadata": {
    "collapsed": true
   },
   "outputs": [],
   "source": [
    "s = connect(input('Email: '), api='https://services-staging.ovation.io', token='/api/v1/sessions')"
   ]
  },
  {
   "cell_type": "markdown",
   "metadata": {},
   "source": [
    "## Workflow"
   ]
  },
  {
   "cell_type": "code",
   "execution_count": null,
   "metadata": {
    "collapsed": true
   },
   "outputs": [],
   "source": [
    "workflow_id = input('Workflow ID: ')"
   ]
  },
  {
   "cell_type": "code",
   "execution_count": null,
   "metadata": {
    "collapsed": true
   },
   "outputs": [],
   "source": [
    "r = s.get(s.entity_path('workflows', workflow_id))\n",
    "workflow = r.workflow"
   ]
  },
  {
   "cell_type": "markdown",
   "metadata": {},
   "source": [
    "### Create batch"
   ]
  },
  {
   "cell_type": "markdown",
   "metadata": {},
   "source": [
    "_Complete in web app_"
   ]
  },
  {
   "cell_type": "markdown",
   "metadata": {},
   "source": [
    "### SortME RNA"
   ]
  },
  {
   "cell_type": "code",
   "execution_count": null,
   "metadata": {
    "collapsed": true
   },
   "outputs": [],
   "source": [
    "# Download flowcell index as JSON"
   ]
  },
  {
   "cell_type": "code",
   "execution_count": null,
   "metadata": {
    "collapsed": false
   },
   "outputs": [],
   "source": [
    "activity_label = 'sequencing_qc_prep_sortmerna'\n",
    "metadata = {'singleRead': False} # True for paired-end\n",
    "resources = {'sortmerna-report': ['sequencing-sortmerna.xls'],\n",
    "             'sortmerna-log-tar':['sortmerna-log.tar.gz']}"
   ]
  },
  {
   "cell_type": "code",
   "execution_count": null,
   "metadata": {
    "collapsed": true
   },
   "outputs": [],
   "source": [
    "seq_qc_prep_sortmerna = workflows.create_activity(s, \n",
    "                                                  workflow_id, \n",
    "                                                  activity_label, \n",
    "                                                  activity=metadata, \n",
    "                                                  resources=resources,\n",
    "                                                  progress=tqdm)"
   ]
  },
  {
   "cell_type": "markdown",
   "metadata": {},
   "source": [
    "### FastQC"
   ]
  },
  {
   "cell_type": "code",
   "execution_count": null,
   "metadata": {
    "collapsed": true
   },
   "outputs": [],
   "source": [
    "activity_label = 'sequencing_qc_prep_fastqc'\n",
    "metadata = {'singleRead': False} # True for paired-end\n",
    "resources = {'fastqc-report': ['files/fastqc_single_end.xls']}\n",
    "\n",
    "# Resource groups represent folders. Here we're uploading the \"Lib-Sample\" fastqc output folder. Ovation automatically parses the\n",
    "# file name to associate each folder with the correct sample, assuming <sample>_fastqc or <sample>_[12]_fastqc\n",
    "resource_groups = {'fastqc-output': ['files/Lib-Sample_fastqc']}"
   ]
  },
  {
   "cell_type": "code",
   "execution_count": null,
   "metadata": {
    "collapsed": true
   },
   "outputs": [],
   "source": [
    "seq_qc_prep_fastqc = workflows.create_activity(s, \n",
    "                                               workflow_id, \n",
    "                                               activity_label, \n",
    "                                               activity=metadata,\n",
    "                                               resources=resources,\n",
    "                                               resource_groups=resource_groups,\n",
    "                                               progress=tqdm)"
   ]
  },
  {
   "cell_type": "markdown",
   "metadata": {},
   "source": [
    "### Sequencing QC"
   ]
  },
  {
   "cell_type": "markdown",
   "metadata": {},
   "source": [
    "_Complete in web app_"
   ]
  },
  {
   "cell_type": "markdown",
   "metadata": {},
   "source": [
    "### STAR"
   ]
  },
  {
   "cell_type": "code",
   "execution_count": null,
   "metadata": {
    "collapsed": true
   },
   "outputs": [],
   "source": [
    "activity_label = 'alignment-star'\n",
    "metadata = {}\n",
    "resources = {'star-stats-file': ['star-stats.xls'],\n",
    "             'star-tar': ['star.tar.gz']}"
   ]
  },
  {
   "cell_type": "code",
   "execution_count": null,
   "metadata": {
    "collapsed": true
   },
   "outputs": [],
   "source": [
    "alignment_star = workflows.create_activity(s, \n",
    "                                           workflow_id, \n",
    "                                           activity_label, \n",
    "                                           activity=metadata,\n",
    "                                           resources=resources,\n",
    "                                           progress=tqdm)"
   ]
  },
  {
   "cell_type": "markdown",
   "metadata": {},
   "source": [
    "### RNASeqC"
   ]
  },
  {
   "cell_type": "code",
   "execution_count": null,
   "metadata": {
    "collapsed": true
   },
   "outputs": [],
   "source": [
    "activity_label = 'bam-qc-prep'\n",
    "metadata = {}\n",
    "resources = {'rnaseqc-metrics': ['rnaseqc.xls'],\n",
    "             'rnaseqc-tar': ['rnaseqc.tar.gz']}"
   ]
  },
  {
   "cell_type": "code",
   "execution_count": null,
   "metadata": {
    "collapsed": true
   },
   "outputs": [],
   "source": [
    "rnaseqc = workflows.create_activity(s, \n",
    "                                    workflow_id, \n",
    "                                    activity_label, \n",
    "                                    activity=metadata,\n",
    "                                    resources=resources,\n",
    "                                    progress=tqdm)"
   ]
  },
  {
   "cell_type": "markdown",
   "metadata": {},
   "source": [
    "### Novoalign"
   ]
  },
  {
   "cell_type": "code",
   "execution_count": null,
   "metadata": {
    "collapsed": true
   },
   "outputs": [],
   "source": [
    "activity_label = 'alignment-novo'\n",
    "metadata = {}\n",
    "resources = {'novo-se-pe-stats-file': ['se-pe-stats.tab'],\n",
    "             'novo-pe-stats-file': ['pe-stats.tab'],\n",
    "             'novo-raw-stats-file': ['raw-stats.tar.gz']}"
   ]
  },
  {
   "cell_type": "code",
   "execution_count": null,
   "metadata": {
    "collapsed": true
   },
   "outputs": [],
   "source": [
    "novoalign = workflows.create_activity(s, \n",
    "                                      workflow_id, \n",
    "                                      activity_label, \n",
    "                                      activity=metadata,\n",
    "                                      resources=resources,\n",
    "                                      progress=tqdm)"
   ]
  },
  {
   "cell_type": "markdown",
   "metadata": {},
   "source": [
    "### ERCC"
   ]
  },
  {
   "cell_type": "code",
   "execution_count": null,
   "metadata": {
    "collapsed": true
   },
   "outputs": [],
   "source": [
    "activity_label = 'alignment-ercc'\n",
    "metadata = {}\n",
    "resources = {'ercc-stats-file': ['ercc-stats.tab'],\n",
    "             'ercc-image-file': glob.glob(\"*.ercc.jpg\"),\n",
    "             'ercc-raw-stats-file': ['raw-stats.tar.gz']}"
   ]
  },
  {
   "cell_type": "code",
   "execution_count": null,
   "metadata": {
    "collapsed": true
   },
   "outputs": [],
   "source": [
    "novoalign = workflows.create_activity(s, \n",
    "                                      workflow_id, \n",
    "                                      activity_label, \n",
    "                                      activity=metadata,\n",
    "                                      resources=resources,\n",
    "                                      progress=tqdm)"
   ]
  },
  {
   "cell_type": "markdown",
   "metadata": {},
   "source": [
    "### Alignment (BAM) QC"
   ]
  },
  {
   "cell_type": "markdown",
   "metadata": {},
   "source": [
    "_Complete in web app_"
   ]
  },
  {
   "cell_type": "markdown",
   "metadata": {},
   "source": [
    "### Differential expression"
   ]
  },
  {
   "cell_type": "code",
   "execution_count": null,
   "metadata": {
    "collapsed": true
   },
   "outputs": [],
   "source": [
    "activity_label = 'differential-expression'\n",
    "metadata = {\n",
    "    'activeSiteLinks': ['https://example.com/activesite']\n",
    "}"
   ]
  },
  {
   "cell_type": "code",
   "execution_count": null,
   "metadata": {
    "collapsed": true
   },
   "outputs": [],
   "source": [
    "diff_expr = workflows.create_activity(s, \n",
    "                                      workflow_id, \n",
    "                                      activity_label, \n",
    "                                      activity=metadata,\n",
    "                                      resources=resources,\n",
    "                                      progress=tqdm)"
   ]
  }
 ],
 "metadata": {
  "kernelspec": {
   "display_name": "Python 3",
   "language": "python",
   "name": "python3"
  },
  "language_info": {
   "codemirror_mode": {
    "name": "ipython",
    "version": 3
   },
   "file_extension": ".py",
   "mimetype": "text/x-python",
   "name": "python",
   "nbconvert_exporter": "python",
   "pygments_lexer": "ipython3",
   "version": "3.5.1"
  }
 },
 "nbformat": 4,
 "nbformat_minor": 0
}
