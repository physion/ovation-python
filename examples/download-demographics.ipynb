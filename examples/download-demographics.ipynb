{
 "cells": [
  {
   "cell_type": "markdown",
   "metadata": {},
   "source": [
    "# Download Batch demographics"
   ]
  },
  {
   "cell_type": "markdown",
   "metadata": {},
   "source": [
    "This notebook demonstrates using the Ovation API to download patient demographics and sample metadata for all samples in a workflow batch."
   ]
  },
  {
   "cell_type": "code",
   "execution_count": null,
   "metadata": {},
   "outputs": [],
   "source": [
    "import csv\n",
    "import dateutil.parser\n",
    "\n",
    "import ovation.session as session\n",
    "import ovation.workflows as workflows\n",
    "import tqdm.tqdm_notebook as tqdm"
   ]
  },
  {
   "cell_type": "markdown",
   "metadata": {},
   "source": [
    "Create a session object"
   ]
  },
  {
   "cell_type": "code",
   "execution_count": null,
   "metadata": {},
   "outputs": [],
   "source": [
    "s = session.connect_lab(input('email: '))"
   ]
  },
  {
   "cell_type": "markdown",
   "metadata": {},
   "source": [
    "Retrieve the workflow by Id:"
   ]
  },
  {
   "cell_type": "code",
   "execution_count": null,
   "metadata": {
    "collapsed": true
   },
   "outputs": [],
   "source": [
    "workflow = s.get(s.path('workflow', int(input('Workflow ID: '))))"
   ]
  },
  {
   "cell_type": "markdown",
   "metadata": {},
   "source": [
    "Iterate the samples in the workflow, producing one row in the CSV output per sample:"
   ]
  },
  {
   "cell_type": "code",
   "execution_count": null,
   "metadata": {
    "collapsed": true
   },
   "outputs": [],
   "source": [
    "output_name = 'workflow_{}.csv'.format(workflow.workflow.id)\n",
    "with open(output_name, 'w') as csvfile:\n",
    "    fieldnames = ['Sample ID', \n",
    "                  'Date Received', \n",
    "                  'Patient First Name',\n",
    "                  'Patient MI',\n",
    "                  'Patient Last Name',\n",
    "                  'Sex',\n",
    "                  'DOB',\n",
    "                  'MRN/Submitter ID',\n",
    "                  'Additional ID #',\n",
    "                  'Collection Date',\n",
    "                  'Specimen Type',\n",
    "                  'Patient Diagnostic Test',\n",
    "                  'Physician Name']\n",
    "    writer = csv.DictWriter(csvfile, fieldnames=fieldnames)\n",
    "\n",
    "    writer.writeheader()\n",
    "    \n",
    "    for sample in tqdm(workflow.samples):\n",
    "        requisition = session.get(session.path('requisition', sample.requisition_id, include_org=False))\n",
    "        \n",
    "        sex = '/'.join([k for k in sample.patient.gender if sample.patient.gender[k] == True])\n",
    "        \n",
    "        requested_tests = '/'.join([k for k in requisition.requisition.requested_tests if requisition.requisition.requested_tests[k] == True])\n",
    "        \n",
    "        physician = requisition.requisition.physician\n",
    "        \n",
    "        row = {'Sample ID': sample.identifier, \n",
    "                  'Date Received': dateutil.parser.parse(sample.date_received).isoformat() if sample.date_received is not None else '', \n",
    "                  'Patient First Name': sample.patient.first_name,\n",
    "                  'Patient Last Name': sample.patient.last_name,\n",
    "                  'Sex': sex,\n",
    "                  'DOB': dateutil.parser.parse(sample.patient.date_of_birth).isoformat() if sample.patient.date_of_birth is not None else '',\n",
    "                  'Collection Date': dateutil.parser.parse(requisition.requisition.sample_collection_date).isoformat() if requisition.requisition.sample_collection_date is not None else '',\n",
    "                  'Specimen Type': requisition.requisition.sample_type if requisition.requisition.sample_type is not None else '',\n",
    "                  'Patient Diagnostic Test': requested_tests,\n",
    "                  'Physician Name': physician.name if physician is not None else ''}\n",
    "        writer.writerow(row)\n"
   ]
  }
 ],
 "metadata": {
  "kernelspec": {
   "display_name": "Python 3",
   "language": "python",
   "name": "python3"
  },
  "language_info": {
   "codemirror_mode": {
    "name": "ipython",
    "version": 3
   },
   "file_extension": ".py",
   "mimetype": "text/x-python",
   "name": "python",
   "nbconvert_exporter": "python",
   "pygments_lexer": "ipython3",
   "version": "3.5.3"
  }
 },
 "nbformat": 4,
 "nbformat_minor": 2
}
