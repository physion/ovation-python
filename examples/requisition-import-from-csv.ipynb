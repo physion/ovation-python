{
 "cells": [
  {
   "cell_type": "markdown",
   "metadata": {},
   "source": [
    "# Requisition import"
   ]
  },
  {
   "cell_type": "markdown",
   "metadata": {},
   "source": [
    "This example demonstrates importing requisition(s) from a CSV file"
   ]
  },
  {
   "cell_type": "markdown",
   "metadata": {},
   "source": [
    "## Setup"
   ]
  },
  {
   "cell_type": "code",
   "execution_count": null,
   "metadata": {
    "collapsed": true
   },
   "outputs": [],
   "source": [
    "import dateutil.parser\n",
    "import csv\n",
    "\n",
    "from ovation.session import connect_lab\n",
    "\n",
    "from tqdm import tqdm_notebook as tqdm"
   ]
  },
  {
   "cell_type": "markdown",
   "metadata": {},
   "source": [
    "## Session"
   ]
  },
  {
   "cell_type": "code",
   "execution_count": null,
   "metadata": {},
   "outputs": [],
   "source": [
    "user = input('Email: ')"
   ]
  },
  {
   "cell_type": "code",
   "execution_count": null,
   "metadata": {},
   "outputs": [],
   "source": [
    "s = connect_lab(user, api='https://lab-services-staging.ovation.io/') # use api='https://lab-services.ovation.io' for production"
   ]
  },
  {
   "cell_type": "markdown",
   "metadata": {
    "collapsed": true
   },
   "source": [
    "## Functions"
   ]
  },
  {
   "cell_type": "markdown",
   "metadata": {},
   "source": [
    "Several functions that we'll use for the import…"
   ]
  },
  {
   "cell_type": "code",
   "execution_count": null,
   "metadata": {},
   "outputs": [],
   "source": [
    "def get_project_by_name(s, project_name, organization_id=0):\n",
    "    projects = s.get(s.path('project'), \n",
    "                    params={'organization_id': organization_id}).projects\n",
    "    \n",
    "    project = list(filter(lambda p: p.name == project_name, projects))[0]\n",
    "    \n",
    "    return project\n",
    "    \n",
    "\n",
    "def create_container(s, organization_id, container_type, container_barcode=None):\n",
    "    container_data = {'type': container_type}\n",
    "    \n",
    "    if container_barcode is not None:\n",
    "        container_data['barcode'] = container_barcode\n",
    "    \n",
    "    container = s.post(s.path('container'),\n",
    "                       data={'container': container_data},\n",
    "                       params={'organization_id': organization_id})\n",
    "    \n",
    "    return container\n",
    "\n",
    "def create_requisition(s, project=None,\n",
    "                       organization_id=0,\n",
    "                       identifier=None,\n",
    "                       template_name=None,\n",
    "                       container_type='Tube',\n",
    "                       container_barcode=None,\n",
    "                       container_position='A01',\n",
    "                       custom_attributes={},\n",
    "                       sample_date_received=None,\n",
    "                       patient_mrn=None,\n",
    "                       patient_gender=None,\n",
    "                       patient_dob=None,\n",
    "                       patient_first_name=None,\n",
    "                       patient_last_name=None,\n",
    "                       panel=None,\n",
    "                       physician_email=None,\n",
    "                       sample_collection_date=None\n",
    "                      ):\n",
    "        \n",
    "    # Create sample container\n",
    "    container = create_container(s, organization_id, container_type, container_barcode)\n",
    "    \n",
    "    # Create the requisition\n",
    "    sample_data = {\"identifier\": identifier,\n",
    "                   \"sample_states\": [{\"container_id\": container.id,\n",
    "                                      \"position\": container_position}]}\n",
    "    \n",
    "    if sample_date_received:\n",
    "        sample_data[\"date_received\"] = sample_date_received\n",
    "    else:\n",
    "        sample_data[\"received\"] = False\n",
    "    \n",
    "    gender = {}\n",
    "    if patient_gender.lower == 'f' or patient_gender.lower() == 'female':\n",
    "        gender['female'] = True\n",
    "    elif patient_gender.lower == 'm' or patient_gender.lower() == 'male':\n",
    "        gender['male'] = True\n",
    "            \n",
    "    requisition_data = {\"identifier\": identifier, # Any unique (within organization) identifier\n",
    "                        \"template\": template_name,\n",
    "                        \"custom_attributes\": custom_attributes,\n",
    "                        \"sample_collection_date\": sample_collection_date,\n",
    "                        \"samples\": [sample_data],\n",
    "                        \"patient\": {\n",
    "                            \"identifier\": patient_mrn,\n",
    "                            \"first_name\": patient_first_name,\n",
    "                            \"last_name\": patient_last_name,\n",
    "                            \"date_of_birth\": patient_dob,\n",
    "                            \"gender\": gender\n",
    "                        },\n",
    "                        \"requested_tests\": {\n",
    "                            panel: True\n",
    "                        },\n",
    "                        \"complete\": False,\n",
    "                        \"organization_id\": organization_id,\n",
    "                        \"project_id\": project.id\n",
    "                      }\n",
    "    \n",
    "    if physician_email:\n",
    "        requisition_data[\"physician\"] = {\"contact_email\": physician_email}\n",
    "\n",
    "    req = s.post(s.path('requisition'), \n",
    "                 data={'requisition': requisition_data},\n",
    "                 params={'organization_id': organization_id,\n",
    "                        \"project_id\": project.id})\n",
    "    \n",
    "    return req\n",
    "\n",
    "def import_requisition(s, row, organization_id=0, template_name=None, project=None, physician_email=None):\n",
    "    assert project is not None\n",
    "    assert template_name is not None\n",
    "    assert row is not None\n",
    "    \n",
    "    identifier = row['accession']\n",
    "    container_type = 'Tube',\n",
    "    container_position = 'A01',\n",
    "    container_barcode = row['tube no']\n",
    "    custom_attributes = {'date shipped': row['date shipped']} # Add Institution, Department, etc.\n",
    "    patient_mrn = row['mrn']\n",
    "    patient_gender = row['gender']\n",
    "    dob = dateutil.parser.parse(row['dob']) if len(row['dob']) > 0 else None\n",
    "    patient_dob = dob.date().isoformat() if dob else None\n",
    "    patient_first_name = row['first name']\n",
    "    patient_last_name = row['last name']\n",
    "    panel = row['test mnemonic'] # Must be a panel code!\n",
    "    sample_collection_date = dateutil.parser.parse(row['collect date']) if len(row['collect date']) > 0 else None\n",
    "    sample_collection_date = sample_collection_date.date().isoformat() if sample_collection_date else None\n",
    "    \n",
    "    return create_requisition(s, project,\n",
    "                              organization_id=organization_id,\n",
    "                              identifier=identifier,\n",
    "                              template_name=template_name,\n",
    "                              container_type='Tube',\n",
    "                              container_barcode=container_barcode,\n",
    "                              container_position='A01',\n",
    "                              custom_attributes=custom_attributes,\n",
    "                              sample_date_received=None,\n",
    "                              patient_mrn=patient_mrn,\n",
    "                              patient_gender=patient_gender,\n",
    "                              patient_dob=patient_dob,\n",
    "                              patient_first_name=patient_first_name,\n",
    "                              patient_last_name=patient_last_name,\n",
    "                              panel=panel,\n",
    "                              physician_email=physician_email,\n",
    "                              sample_collection_date=sample_collection_date)"
   ]
  },
  {
   "cell_type": "markdown",
   "metadata": {},
   "source": [
    "## Import"
   ]
  },
  {
   "cell_type": "markdown",
   "metadata": {},
   "source": [
    "Collect required information, then import each requisition in the provided CSV."
   ]
  },
  {
   "cell_type": "code",
   "execution_count": null,
   "metadata": {},
   "outputs": [],
   "source": [
    "organization_id = int(input('Organization ID: '))"
   ]
  },
  {
   "cell_type": "code",
   "execution_count": null,
   "metadata": {},
   "outputs": [],
   "source": [
    "csv_path = input('CSV path: ')"
   ]
  },
  {
   "cell_type": "code",
   "execution_count": null,
   "metadata": {},
   "outputs": [],
   "source": [
    "template_name = input(\"Requisition template name: \")"
   ]
  },
  {
   "cell_type": "code",
   "execution_count": null,
   "metadata": {},
   "outputs": [],
   "source": [
    "project_name = input('Project name: ')"
   ]
  },
  {
   "cell_type": "code",
   "execution_count": null,
   "metadata": {},
   "outputs": [],
   "source": [
    "project = get_project_by_name(s, project_name, organization_id=organization_id)"
   ]
  },
  {
   "cell_type": "code",
   "execution_count": null,
   "metadata": {},
   "outputs": [],
   "source": [
    "with open(csv_path, newline='') as csvfile:\n",
    "    reader = csv.DictReader(csvfile)\n",
    "    for row in tqdm(reader, unit='requisitions'):\n",
    "        import_requisition(s, row, organization_id=organization_id, template_name=template_name, project=project, physician_email=None)\n",
    "        "
   ]
  }
 ],
 "metadata": {
  "kernelspec": {
   "display_name": "Python 3",
   "language": "python",
   "name": "python3"
  },
  "language_info": {
   "codemirror_mode": {
    "name": "ipython",
    "version": 3
   },
   "file_extension": ".py",
   "mimetype": "text/x-python",
   "name": "python",
   "nbconvert_exporter": "python",
   "pygments_lexer": "ipython3",
   "version": "3.5.3"
  }
 },
 "nbformat": 4,
 "nbformat_minor": 2
}
