{
 "cells": [
  {
   "cell_type": "markdown",
   "metadata": {},
   "source": [
    "# Attributes and Annotations"
   ]
  },
  {
   "cell_type": "markdown",
   "metadata": {},
   "source": [
    "To run this example, you'll need the Ovation Python API. Install with `pip`:\n",
    "\n",
    "    pip install ovation"
   ]
  },
  {
   "cell_type": "code",
   "execution_count": null,
   "metadata": {},
   "outputs": [],
   "source": [
    "from ovation.session import connect\n",
    "\n",
    "from pprint import pprint\n",
    "from getpass import getpass"
   ]
  },
  {
   "cell_type": "markdown",
   "metadata": {},
   "source": [
    "## Connection"
   ]
  },
  {
   "cell_type": "markdown",
   "metadata": {},
   "source": [
    "You use a `connection.Session` to interact with the Ovaiton REST API. Use the `connect` method to create an authenticated `Session`. You can provide your Ovation password with the `password=` parameter, but please keep your Ovation password secure. **Don't put your password in your source code**. It's much better to let `connect` prompt you for your password when needed. For scripts run on the server, it's best to provide your password via an environment variable:\n",
    "\n",
    "    connect(my_email, password=os.environ['OVATION_PASSWORD'])\n",
    "    \n",
    "for example."
   ]
  },
  {
   "cell_type": "code",
   "execution_count": null,
   "metadata": {},
   "outputs": [],
   "source": [
    "email = input('Ovation email: ')"
   ]
  },
  {
   "cell_type": "code",
   "execution_count": null,
   "metadata": {},
   "outputs": [],
   "source": [
    "session = connect(email)"
   ]
  },
  {
   "cell_type": "markdown",
   "metadata": {},
   "source": [
    "## Attributes"
   ]
  },
  {
   "cell_type": "markdown",
   "metadata": {},
   "source": [
    "Ovation entities have an `attributes` object for user data. For example, the Ovation web app uses the `attributes` object to store the name of a `Folder` or `File`. You can see the names of these 'built-in' attributes for each entity at https://api.ovation.io/index.html. \n",
    "\n",
    "You can update the attributes of an entity by modifying the `attributes` object and PUTing the entity."
   ]
  },
  {
   "cell_type": "code",
   "execution_count": null,
   "metadata": {},
   "outputs": [],
   "source": [
    "project_id = input('Project UUID: ')"
   ]
  },
  {
   "cell_type": "code",
   "execution_count": null,
   "metadata": {},
   "outputs": [],
   "source": [
    "project = session.get(session.path('projects', id=project_id))\n",
    "pprint(project)"
   ]
  },
  {
   "cell_type": "code",
   "execution_count": null,
   "metadata": {},
   "outputs": [],
   "source": [
    "# Add a new attribute\n",
    "project.attributes.my_attribute = 'Wow!'\n",
    "\n",
    "# PUT the entity to save it\n",
    "project = session.put(project.links.self, entity=project)\n",
    "pprint(project)"
   ]
  },
  {
   "cell_type": "markdown",
   "metadata": {},
   "source": [
    "You can delete attributes by removing them from the `attributes` object."
   ]
  },
  {
   "cell_type": "code",
   "execution_count": null,
   "metadata": {},
   "outputs": [],
   "source": [
    "# Remove an attribute\n",
    "del project.attributes['my_attribute']\n",
    "\n",
    "# PUT the entity to save it\n",
    "project = session.put(project.links.self, entity=project)"
   ]
  },
  {
   "cell_type": "markdown",
   "metadata": {},
   "source": [
    "## Annotations"
   ]
  },
  {
   "cell_type": "markdown",
   "metadata": {},
   "source": [
    "Unlike `attributes` which must have a single value for an entity, annotations any user to add their _own_ information to an entity. User annotations are kept separate, so one user's annotation can't interfere with an other user's. Anyone with permission to see an entity can read _all_ annotations on that entity, however.\n",
    "\n",
    "Annotations can be keyword tags, properties (key-value pairs), text notes, and events."
   ]
  },
  {
   "cell_type": "code",
   "execution_count": null,
   "metadata": {},
   "outputs": [],
   "source": [
    "# Create a new keyword tag\n",
    "session.post(project.links.tags, data={'tags': [{'tag': 'mytag'}]})"
   ]
  },
  {
   "cell_type": "code",
   "execution_count": null,
   "metadata": {},
   "outputs": [],
   "source": [
    "# Get the tags for project\n",
    "tags = session.get(project.links.tags)\n",
    "pprint(tags)"
   ]
  },
  {
   "cell_type": "code",
   "execution_count": null,
   "metadata": {},
   "outputs": [],
   "source": [
    "# Delete a tag\n",
    "session.delete(project.links.tags + \"/\" + tags[0]._id)"
   ]
  }
 ],
 "metadata": {
  "kernelspec": {
   "display_name": "Python 3",
   "language": "python",
   "name": "python3"
  },
  "language_info": {
   "codemirror_mode": {
    "name": "ipython",
    "version": 3.0
   },
   "file_extension": ".py",
   "mimetype": "text/x-python",
   "name": "python",
   "nbconvert_exporter": "python",
   "pygments_lexer": "ipython3",
   "version": "3.5.1"
  }
 },
 "nbformat": 4,
 "nbformat_minor": 0
}
