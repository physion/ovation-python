{
 "cells": [
  {
   "cell_type": "markdown",
   "metadata": {},
   "source": [
    "# RNA sequencing workflow example"
   ]
  },
  {
   "cell_type": "markdown",
   "metadata": {},
   "source": [
    "In this notebook, we'll walk through an RNA sequencing workflow in Ovation for Service Labs. Although the activities in the workflow can be accomplished using the web app (https://lab.ovation.io) to download & upload files, this notebook illustrates the API interactions to complete the workflow using existing bioinformatics tools. "
   ]
  },
  {
   "cell_type": "markdown",
   "metadata": {},
   "source": [
    "## Setup"
   ]
  },
  {
   "cell_type": "code",
   "execution_count": null,
   "metadata": {
    "collapsed": false
   },
   "outputs": [],
   "source": [
    "import urllib\n",
    "import texttable\n",
    "import os\n",
    "import glob\n",
    "\n",
    "import ovation.lab.workflows as workflows\n",
    "import ovation.lab.download as download\n",
    "import ovation.lab.upload as upload\n",
    "\n",
    "from ovation.session import connect\n",
    "from importlib import reload\n",
    "from tqdm import tqdm as tqdm\n",
    "from pprint import pprint"
   ]
  },
  {
   "cell_type": "markdown",
   "metadata": {},
   "source": [
    "## Connection"
   ]
  },
  {
   "cell_type": "markdown",
   "metadata": {},
   "source": [
    "This interactive notebooks starts with an interactive `Session` connection. If you already have a (long-lived) API token, you can create a session with:\n",
    "\n",
    "    s = ovation.session.Session(token, api='https://lab-services.ovation.io', token='/api/v1/sessions')"
   ]
  },
  {
   "cell_type": "code",
   "execution_count": null,
   "metadata": {
    "collapsed": false
   },
   "outputs": [],
   "source": [
    "s = connect(input('Email: '), api='https://services-staging.ovation.io', token='/api/v1/sessions')"
   ]
  },
  {
   "cell_type": "markdown",
   "metadata": {},
   "source": [
    "## Workflow"
   ]
  },
  {
   "cell_type": "markdown",
   "metadata": {},
   "source": [
    "We'll need to know which workflow to post data to."
   ]
  },
  {
   "cell_type": "code",
   "execution_count": null,
   "metadata": {
    "collapsed": false
   },
   "outputs": [],
   "source": [
    "workflow_id = input('Workflow ID: ')"
   ]
  },
  {
   "cell_type": "code",
   "execution_count": null,
   "metadata": {
    "collapsed": false
   },
   "outputs": [],
   "source": [
    "r = s.get(s.entity_path('workflows', workflow_id))\n",
    "workflow = r.workflow"
   ]
  },
  {
   "cell_type": "markdown",
   "metadata": {},
   "source": [
    "Here's the full workflow: \n",
    "![title](workflow.png)\n",
    "\n",
    "The burnt-orange activities are most easily accomplished in the web app, so we'll assume that they're completed in the app. The secions below show the API calls for the light-orange colored activities."
   ]
  },
  {
   "cell_type": "markdown",
   "metadata": {},
   "source": [
    "What samples are in the pool?"
   ]
  },
  {
   "cell_type": "code",
   "execution_count": null,
   "metadata": {
    "collapsed": false
   },
   "outputs": [],
   "source": [
    "samples = s.get(workflow.links.samples)\n",
    "\n",
    "table = texttable.Texttable()\n",
    "table.set_deco(texttable.Texttable.HEADER)\n",
    "table.add_rows([[\"Identifier\", \"Date received\"]] + [[s.identifier, s.date_received] for s in samples])\n",
    "print(table.draw())"
   ]
  },
  {
   "cell_type": "markdown",
   "metadata": {},
   "source": [
    "What activities are in the workflow? `workflow.relationships.keys` gives the label name for each activity:"
   ]
  },
  {
   "cell_type": "code",
   "execution_count": null,
   "metadata": {
    "collapsed": false
   },
   "outputs": [],
   "source": [
    "pprint(list(workflow.relationships.keys()))"
   ]
  },
  {
   "cell_type": "markdown",
   "metadata": {},
   "source": [
    "### Downloading files"
   ]
  },
  {
   "cell_type": "markdown",
   "metadata": {},
   "source": [
    "In many activities, you'll want to download files from previous activities (e.g. the `fastq` files from demultiplexing in the Sequencing QC Prep activities). You can use `ovation.lab.download.download_resources` to get the resources from a labeled activity. For example:\n",
    "\n",
    "    # Download the `xml-file` from the sequencing activity to the current working directory\n",
    "    download.download_resources(s, workflow, 'sequencing', 'xml-file', output=cwd, progress=tqdm)"
   ]
  },
  {
   "cell_type": "markdown",
   "metadata": {},
   "source": [
    "### Create batch, pool"
   ]
  },
  {
   "cell_type": "markdown",
   "metadata": {},
   "source": [
    "*Complete in web app*"
   ]
  },
  {
   "cell_type": "markdown",
   "metadata": {},
   "source": [
    "### Sequencing"
   ]
  },
  {
   "cell_type": "markdown",
   "metadata": {},
   "source": [
    "You can create the activity wholly via the API..."
   ]
  },
  {
   "cell_type": "code",
   "execution_count": null,
   "metadata": {
    "collapsed": false
   },
   "outputs": [],
   "source": [
    "activity_label = 'sequencing'\n",
    "metadata = {\n",
    "    'clusterDensity': 2,\n",
    "    'q30Read1': 1.5,\n",
    "    'errorRateRead1': 0.23,\n",
    "} #read2, q30Read2, errorRateRead2 required for paired-end\n",
    "\n",
    "# Resources for Illumina sequencer\n",
    "resources = {'nextseq-run-info': ['RunInfo.xml'], \n",
    "             'nextseq-run-completion-status': ['RunCompletionStatus.xml']\n",
    "            }"
   ]
  },
  {
   "cell_type": "code",
   "execution_count": null,
   "metadata": {
    "collapsed": false
   },
   "outputs": [],
   "source": [
    "sequencing = workflows.create_activity(s,\n",
    "                                       workflow_id, \n",
    "                                       activity_label, \n",
    "                                       activity=metadata, \n",
    "                                       resources=resources, \n",
    "                                       progress=tqdm)"
   ]
  },
  {
   "cell_type": "markdown",
   "metadata": {},
   "source": [
    "Or assume that the activity has been completed by the lab team. Let's find the run type (single or paired) and the flowcell Id..."
   ]
  },
  {
   "cell_type": "code",
   "execution_count": null,
   "metadata": {
    "collapsed": false
   },
   "outputs": [],
   "source": [
    "sequencing = workflows.get_activity(s, workflow, activity_label)\n",
    "\n",
    "# Is this a single or paired-end read?\n",
    "if sequencing.custom_attributes.singleRead:\n",
    "    print('Single read')\n",
    "else:\n",
    "    print('Paired-end read')\n",
    "    \n",
    "# What's the flow cell ID?\n",
    "print(\"Flow cell: {}\".format(sequencing.custom_attributes.flowCellId))"
   ]
  },
  {
   "cell_type": "markdown",
   "metadata": {},
   "source": [
    " and upload the `RunInfo` and `RunCompletionStatus` files..."
   ]
  },
  {
   "cell_type": "code",
   "execution_count": null,
   "metadata": {
    "collapsed": false
   },
   "outputs": [],
   "source": [
    "upload.upload_resources(s, sequencing, resources, progress=tqdm)"
   ]
  },
  {
   "cell_type": "markdown",
   "metadata": {},
   "source": [
    "### Demultiplex"
   ]
  },
  {
   "cell_type": "code",
   "execution_count": null,
   "metadata": {
    "collapsed": false
   },
   "outputs": [],
   "source": [
    "# Download the `xml-file` from the sequencing activity to the current working directory\n",
    "download.download_resources(s, workflow, 'sequencing', 'xml-file', output=cwd, progress=tqdm)"
   ]
  },
  {
   "cell_type": "code",
   "execution_count": null,
   "metadata": {
    "collapsed": false
   },
   "outputs": [],
   "source": [
    "activity_label = 'demultiplex'\n",
    "metadata = {}\n",
    "\n",
    "# Optional:  upload fastq files and associate them with the correct samples. Fastq files can be automatically provided\n",
    "#            for project analysis.\n",
    "resources = {'sample-sheet': ['files/sample-sheet.txt'],\n",
    "             'reports-tar': ['Reports.tar.gz'],\n",
    "             'fastq-file': [glob.glob(\"*.fastq\")] # (Optional)\n",
    "            }"
   ]
  },
  {
   "cell_type": "code",
   "execution_count": null,
   "metadata": {
    "collapsed": false
   },
   "outputs": [],
   "source": [
    "demultiplex = workflows.create_activity(s, \n",
    "                                        workflow_id, \n",
    "                                        activity_label, \n",
    "                                        activity=metadata, \n",
    "                                        resources=resources, \n",
    "                                        progress=tqdm)"
   ]
  },
  {
   "cell_type": "markdown",
   "metadata": {},
   "source": [
    "### Sequencing QC Prep — SortME RNA"
   ]
  },
  {
   "cell_type": "code",
   "execution_count": null,
   "metadata": {
    "collapsed": true
   },
   "outputs": [],
   "source": [
    "activity_label = 'sequencing_qc_prep_sortmerna'\n",
    "metadata = {}\n",
    "resources = {'sortmerna-report': ['/Users/barry/Dropbox (Ovation.io)/Ovation.io Team Folder/Cofactor/sample files/sequencing/sortmerna_single_end.xls'],\n",
    "             'sortmerna-log-tar':['/Users/barry/Dropbox (Ovation.io)/Ovation.io Team Folder/Cofactor/sample files/sequencing/sortmerna_single_end.xls']}"
   ]
  },
  {
   "cell_type": "code",
   "execution_count": null,
   "metadata": {
    "collapsed": false
   },
   "outputs": [],
   "source": [
    "seq_qc_prep_sortmerna = workflows.create_activity(s, \n",
    "                                                  workflow_id, \n",
    "                                                  activity_label, \n",
    "                                                  activity=metadata, \n",
    "                                                  resources=resources,\n",
    "                                                  progress=tqdm)"
   ]
  },
  {
   "cell_type": "markdown",
   "metadata": {},
   "source": [
    "### Sequencing QC Prep — FastQC"
   ]
  },
  {
   "cell_type": "code",
   "execution_count": null,
   "metadata": {
    "collapsed": false
   },
   "outputs": [],
   "source": [
    "activity_label = 'sequencing_qc_prep_fastqc'\n",
    "metadata = {'singleRead': False} # True for paired-end\n",
    "resources = {'fastqc-report': ['files/fastqc_single_end.xls']}\n",
    "\n",
    "# Resource groups represent folders. Here we're uploading the \"Lib-Sample\" fastqc output folder. Ovation automatically parses the\n",
    "# file name to associate each folder with the correct sample, assuming <sample>_fastqc or <sample>_[12]_fastqc\n",
    "resource_groups = {'fastqc-output': ['files/Lib-Sample_fastqc']}"
   ]
  },
  {
   "cell_type": "code",
   "execution_count": null,
   "metadata": {
    "collapsed": false
   },
   "outputs": [],
   "source": [
    "seq_qc_prep_fastqc = workflows.create_activity(s, \n",
    "                                               workflow_id, \n",
    "                                               activity_label, \n",
    "                                               activity=metadata,\n",
    "                                               resources=resources,\n",
    "                                               resource_groups=resource_groups,\n",
    "                                               progress=tqdm)"
   ]
  },
  {
   "cell_type": "markdown",
   "metadata": {},
   "source": [
    "### Sequencing QC"
   ]
  },
  {
   "cell_type": "markdown",
   "metadata": {},
   "source": [
    "*Complete in web app*"
   ]
  },
  {
   "cell_type": "markdown",
   "metadata": {},
   "source": [
    "### Trimmomatic"
   ]
  },
  {
   "cell_type": "code",
   "execution_count": null,
   "metadata": {
    "collapsed": true
   },
   "outputs": [],
   "source": [
    "activity_label = 'alignment_prep_trimmomatic'\n",
    "metadata = {}\n",
    "resources = {'trimmomatic-report': ['trimmomatic.xls'],\n",
    "            'trimmomatic-log-tar': ['trimmomatic-log.tar.gz']}"
   ]
  },
  {
   "cell_type": "code",
   "execution_count": null,
   "metadata": {
    "collapsed": true
   },
   "outputs": [],
   "source": [
    "trimmomatic = workflows.create_activity(s,\n",
    "                                        workflow_id, \n",
    "                                        activity_label, \n",
    "                                        activity=metadata, \n",
    "                                        resources=resources,\n",
    "                                        progress=tqdm)"
   ]
  },
  {
   "cell_type": "markdown",
   "metadata": {},
   "source": [
    "### SortME RNA"
   ]
  },
  {
   "cell_type": "code",
   "execution_count": null,
   "metadata": {
    "collapsed": true
   },
   "outputs": [],
   "source": [
    "activity_label = 'alignment_prep_sortmerna'\n",
    "metadata = {}\n",
    "resources = {'sortmerna-report': ['sequencing-sortmerna.xls'],\n",
    "            'sortmerna-log-tar':['sortmerna-log.tar.gz']}"
   ]
  },
  {
   "cell_type": "code",
   "execution_count": null,
   "metadata": {
    "collapsed": false
   },
   "outputs": [],
   "source": [
    "trimmomatic = workflows.create_activity(s,\n",
    "                                        workflow_id, \n",
    "                                        activity_label, \n",
    "                                        activity=metadata, \n",
    "                                        resources=resources,\n",
    "                                        progress=tqdm)"
   ]
  },
  {
   "cell_type": "markdown",
   "metadata": {},
   "source": [
    "### FastQC"
   ]
  },
  {
   "cell_type": "code",
   "execution_count": null,
   "metadata": {
    "collapsed": true
   },
   "outputs": [],
   "source": [
    "activity_label = 'alignment_prep_fastqc'\n",
    "metadata = {}\n",
    "resources = {'fastqc-report': ['files/fastqc_single_end.xls']}\n",
    "# Resource groups represent folders. Here we're uploading the \"Lib-Sample\" fastqc output folder. Ovation automatically parses the\n",
    "# file name to associate each folder with the correct sample, assuming <sample>_fastqc or <sample>_[12]_fastqc\n",
    "resource_groups = {'fastqc-output': ['files/Lib-Sample_fastqc']}"
   ]
  },
  {
   "cell_type": "code",
   "execution_count": null,
   "metadata": {
    "collapsed": false
   },
   "outputs": [],
   "source": [
    "fastqc = workflows.create_activity(s,\n",
    "                                   workflow_id, \n",
    "                                   activity_label, \n",
    "                                   activity=metadata, \n",
    "                                   resources=resources,\n",
    "                                   resource_groups=resource_groups,\n",
    "                                   progress=tqdm)"
   ]
  },
  {
   "cell_type": "markdown",
   "metadata": {},
   "source": [
    "### Alignment"
   ]
  },
  {
   "cell_type": "code",
   "execution_count": null,
   "metadata": {
    "collapsed": true
   },
   "outputs": [],
   "source": [
    "activity_label = 'alignment'\n",
    "metadata = {}\n",
    "resources = {'alignment-stats': ['star_alignmentRates.xls'],\n",
    "             'stats-tar':['stats.tar.gz'],\n",
    "             'bam-file': glob.glob(\"*.bam\") # Optional\n",
    "            }"
   ]
  },
  {
   "cell_type": "code",
   "execution_count": null,
   "metadata": {
    "collapsed": false
   },
   "outputs": [],
   "source": [
    "alginment = workflows.create_activity(s,\n",
    "                                      workflow_id, \n",
    "                                      activity_label, \n",
    "                                      activity=metadata, \n",
    "                                      resources=resources,\n",
    "                                      progress=tqdm)"
   ]
  },
  {
   "cell_type": "markdown",
   "metadata": {},
   "source": [
    "### BAM QC Prep"
   ]
  },
  {
   "cell_type": "code",
   "execution_count": null,
   "metadata": {
    "collapsed": true
   },
   "outputs": [],
   "source": [
    "activity_label = 'bam_qc_prep'\n",
    "metadata = {}\n",
    "resources = {'rnaseqc-metrics': ['rnaseqc_combined_metrics.xls'],\n",
    "             'rnaseqc-tar': ['rnaseqc.tar.gz']}"
   ]
  },
  {
   "cell_type": "code",
   "execution_count": null,
   "metadata": {
    "collapsed": false
   },
   "outputs": [],
   "source": [
    "bamqc_prep = workflows.create_activity(s,\n",
    "                                      workflow_id, \n",
    "                                      activity_label, \n",
    "                                      activity=metadata, \n",
    "                                      resources=resources,\n",
    "                                      progress=tqdm)"
   ]
  },
  {
   "cell_type": "markdown",
   "metadata": {},
   "source": [
    "### BAM QC"
   ]
  },
  {
   "cell_type": "markdown",
   "metadata": {},
   "source": [
    "*Complete in web app*"
   ]
  }
 ],
 "metadata": {
  "kernelspec": {
   "display_name": "Python 3",
   "language": "python",
   "name": "python3"
  },
  "language_info": {
   "codemirror_mode": {
    "name": "ipython",
    "version": 3
   },
   "file_extension": ".py",
   "mimetype": "text/x-python",
   "name": "python",
   "nbconvert_exporter": "python",
   "pygments_lexer": "ipython3",
   "version": "3.5.2"
  }
 },
 "nbformat": 4,
 "nbformat_minor": 0
}
