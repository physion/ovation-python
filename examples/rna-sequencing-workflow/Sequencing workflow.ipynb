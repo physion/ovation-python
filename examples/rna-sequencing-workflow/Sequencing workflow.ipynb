{
 "cells": [
  {
   "cell_type": "markdown",
   "metadata": {},
   "source": [
    "# RNA sequencing workflow example"
   ]
  },
  {
   "cell_type": "markdown",
   "metadata": {},
   "source": [
    "In this notebook, we'll walk through an RNA sequencing workflow in Ovation for Service Labs. Although the activities in the workflow can be accomplished using the web app (https://lab.ovation.io) to download & upload files, this notebook illustrates the API interactions to complete the workflow using existing bioinformatics tools. "
   ]
  },
  {
   "cell_type": "markdown",
   "metadata": {},
   "source": [
    "## Setup"
   ]
  },
  {
   "cell_type": "code",
   "execution_count": 1,
   "metadata": {
    "collapsed": false
   },
   "outputs": [],
   "source": [
    "import urllib\n",
    "import texttable\n",
    "import os\n",
    "import glob\n",
    "\n",
    "import ovation.lab.workflows as workflows\n",
    "import ovation.lab.download as download\n",
    "\n",
    "from ovation.session import connect\n",
    "\n",
    "from tqdm import tqdm_notebook as tqdm\n",
    "from pprint import pprint"
   ]
  },
  {
   "cell_type": "code",
   "execution_count": 2,
   "metadata": {
    "collapsed": true
   },
   "outputs": [],
   "source": [
    "cwd = os.getcwd()"
   ]
  },
  {
   "cell_type": "markdown",
   "metadata": {},
   "source": [
    "## Connection"
   ]
  },
  {
   "cell_type": "markdown",
   "metadata": {},
   "source": [
    "This interactive notebooks starts with an interactive `Session` connection. If you already have a (long-lived) API token, you can create a session with:\n",
    "\n",
    "    s = ovation.session.Session(token, api='https://services.ovation.io', token='/api/v1/sessions')"
   ]
  },
  {
   "cell_type": "code",
   "execution_count": 3,
   "metadata": {
    "collapsed": false
   },
   "outputs": [
    {
     "name": "stdout",
     "output_type": "stream",
     "text": [
      "Email: barry@ovation.io\n",
      "Ovation password: ········\n"
     ]
    }
   ],
   "source": [
    "s = connect(input('Email: '), api='https://services-staging.ovation.io', token='/api/v1/sessions')"
   ]
  },
  {
   "cell_type": "markdown",
   "metadata": {},
   "source": [
    "## Workflow"
   ]
  },
  {
   "cell_type": "markdown",
   "metadata": {},
   "source": [
    "We'll need to know which workflow to post data to."
   ]
  },
  {
   "cell_type": "code",
   "execution_count": 4,
   "metadata": {
    "collapsed": false
   },
   "outputs": [
    {
     "name": "stdout",
     "output_type": "stream",
     "text": [
      "Workflow ID: 132\n"
     ]
    }
   ],
   "source": [
    "workflow_id = input('Workflow ID: ')"
   ]
  },
  {
   "cell_type": "code",
   "execution_count": 5,
   "metadata": {
    "collapsed": false
   },
   "outputs": [],
   "source": [
    "r = s.get(s.entity_path('workflows', workflow_id))\n",
    "workflow = r.workflow"
   ]
  },
  {
   "cell_type": "markdown",
   "metadata": {},
   "source": [
    "Here's the full workflow: \n",
    "![title](workflow.png)\n",
    "\n",
    "The burnt-orange activities are most easily accomplished in the web app, so we'll assume that they're completed in the app. The secions below show the API calls for the light-orange colored activities."
   ]
  },
  {
   "cell_type": "markdown",
   "metadata": {},
   "source": [
    "What samples are in the pool?"
   ]
  },
  {
   "cell_type": "code",
   "execution_count": 22,
   "metadata": {
    "collapsed": false
   },
   "outputs": [
    {
     "name": "stdout",
     "output_type": "stream",
     "text": [
      "Identifier      Date received    \n",
      "================================\n",
      "Lib-Sample   2016-09-06 00:00:00 \n"
     ]
    }
   ],
   "source": [
    "samples = s.get(workflow.links.samples)\n",
    "\n",
    "table = texttable.Texttable()\n",
    "table.set_deco(texttable.Texttable.HEADER)\n",
    "# table.set_cols_align([\"l\", \"r\", \"r\", \"r\", \"l\"])\n",
    "table.add_rows([[\"Identifier\", \"Date received\"]] + [[s.identifier, s.date_received] for s in samples])\n",
    "print(table.draw())"
   ]
  },
  {
   "cell_type": "code",
   "execution_count": 25,
   "metadata": {
    "collapsed": false
   },
   "outputs": [
    {
     "name": "stdout",
     "output_type": "stream",
     "text": [
      "['bam_qc',\n",
      " 'alignment',\n",
      " 'sequencing',\n",
      " 'sequencing_qc',\n",
      " 'sequencing_qc_prep_sortmerna',\n",
      " 'sequencing_qc_prep_fastqc',\n",
      " 'batch_creation',\n",
      " 'demultiplex',\n",
      " 'pool_sample',\n",
      " 'alignment_prep_sortmerna',\n",
      " 'alignment_prep_fastqc',\n",
      " 'alignment_prep_trimmomatic',\n",
      " 'bam_qc_prep']\n"
     ]
    }
   ],
   "source": [
    "pprint(list(workflow.relationships.keys()))"
   ]
  },
  {
   "cell_type": "code",
   "execution_count": 40,
   "metadata": {
    "collapsed": false
   },
   "outputs": [
    {
     "data": {
      "text/plain": [
       "{'self': '/api/v1/activities?organization_id=122&workflow_activity_id=1244'}"
      ]
     },
     "execution_count": 40,
     "metadata": {},
     "output_type": "execute_result"
    }
   ],
   "source": [
    "workflow.relationships.sequencing_qc_prep_sortmerna"
   ]
  },
  {
   "cell_type": "markdown",
   "metadata": {},
   "source": [
    "### Downloading files"
   ]
  },
  {
   "cell_type": "markdown",
   "metadata": {},
   "source": [
    "In many activities, you'll want to download files from previous activities (e.g. the `fastq` files from demultiplexing in the Sequencing QC Prep activities). You can use `ovation.lab.download.download_resources` to get the resources from a labeled activity. For example:\n",
    "\n",
    "    # Download the `xml-file` from the sequencing activity to the current working directory\n",
    "    download.download_resources(s, workflow, 'sequencing', 'xml-file', output=cwd, progress=tqdm)"
   ]
  },
  {
   "cell_type": "markdown",
   "metadata": {},
   "source": [
    "### Create batch, pool, sequencing (with QC)"
   ]
  },
  {
   "cell_type": "markdown",
   "metadata": {},
   "source": [
    "*Complete in web app*"
   ]
  },
  {
   "cell_type": "markdown",
   "metadata": {},
   "source": [
    "### Demultiplex"
   ]
  },
  {
   "cell_type": "code",
   "execution_count": 32,
   "metadata": {
    "collapsed": false
   },
   "outputs": [
    {
     "name": "stdout",
     "output_type": "stream",
     "text": [
      "\n"
     ]
    }
   ],
   "source": [
    "# Download the `xml-file` from the sequencing activity to the current working directory\n",
    "download.download_resources(s, workflow, 'sequencing', 'xml-file', output=cwd, progress=tqdm)"
   ]
  },
  {
   "cell_type": "code",
   "execution_count": 33,
   "metadata": {
    "collapsed": false
   },
   "outputs": [
    {
     "name": "stdout",
     "output_type": "stream",
     "text": [
      "sequencing.xml\r\n"
     ]
    }
   ],
   "source": [
    "ls *.xml && rm sequencing.xml"
   ]
  },
  {
   "cell_type": "code",
   "execution_count": 7,
   "metadata": {
    "collapsed": false
   },
   "outputs": [],
   "source": [
    "activity_label = 'demultiplex'\n",
    "metadata = {}\n",
    "resources = {'sample-sheet': [os.path.join(cwd, 'files/sample-sheet.txt')],\n",
    "            'fastq-file': glob.glob(os.path.join(cwd, \"files/*.fastq\"), recursive=False),\n",
    "            'xml-file': [os.path.join(cwd, 'files/demultiplex.xml')]}"
   ]
  },
  {
   "cell_type": "code",
   "execution_count": 8,
   "metadata": {
    "collapsed": false
   },
   "outputs": [
    {
     "name": "stdout",
     "output_type": "stream",
     "text": [
      "\n",
      "\n",
      "\n"
     ]
    }
   ],
   "source": [
    "demultiplex = workflows.create_activity(s, \n",
    "                                        workflow_id, \n",
    "                                        activity_label, \n",
    "                                        activity=metadata, \n",
    "                                        resources=resources, \n",
    "                                        progress=tqdm)"
   ]
  },
  {
   "cell_type": "markdown",
   "metadata": {},
   "source": [
    "### Sequencing QC Prep — SortME RNA"
   ]
  },
  {
   "cell_type": "code",
   "execution_count": 26,
   "metadata": {
    "collapsed": true
   },
   "outputs": [],
   "source": [
    "activity_label = 'sequencing_qc_prep_sortmerna'\n",
    "metadata = {'singleRead': False} # True for paired-end\n",
    "resources = {'sortmerna-file': [os.path.join(cwd, 'files/sortmerna_single_end.xls')]}"
   ]
  },
  {
   "cell_type": "code",
   "execution_count": 27,
   "metadata": {
    "collapsed": false
   },
   "outputs": [
    {
     "name": "stdout",
     "output_type": "stream",
     "text": [
      "\n"
     ]
    }
   ],
   "source": [
    "seq_qc_prep_sortmerna = workflows.create_activity(s, \n",
    "                                                  workflow_id, \n",
    "                                                  activity_label, \n",
    "                                                  activity=metadata, \n",
    "                                                  resources=resources,\n",
    "                                                  progress=tqdm)"
   ]
  },
  {
   "cell_type": "markdown",
   "metadata": {},
   "source": [
    "### Sequencing QC Prep — FastQC"
   ]
  },
  {
   "cell_type": "code",
   "execution_count": 36,
   "metadata": {
    "collapsed": false
   },
   "outputs": [],
   "source": [
    "activity_label = 'sequencing_qc_prep_fastqc'\n",
    "metadata = {'singleRead': False} # True for paired-end\n",
    "resources = {'fastqc-file': [os.path.join(cwd, 'files/fastqc_single_end.xls')]}\n",
    "resource_groups = {'fastqc-output': [os.path.join(cwd, 'files/fastqc')]}"
   ]
  },
  {
   "cell_type": "code",
   "execution_count": 37,
   "metadata": {
    "collapsed": false
   },
   "outputs": [
    {
     "name": "stdout",
     "output_type": "stream",
     "text": [
      "\n"
     ]
    }
   ],
   "source": [
    "seq_qc_prep_fastqc = workflows.create_activity(s, \n",
    "                                                workflow_id, \n",
    "                                                activity_label, \n",
    "                                                activity=metadata, \n",
    "                                                resources=resources,\n",
    "                                                progress=tqdm)"
   ]
  },
  {
   "cell_type": "markdown",
   "metadata": {},
   "source": [
    "### Sequencing QC"
   ]
  },
  {
   "cell_type": "markdown",
   "metadata": {},
   "source": [
    "*Complete in web app*"
   ]
  },
  {
   "cell_type": "markdown",
   "metadata": {},
   "source": [
    "### Trimmomatic"
   ]
  },
  {
   "cell_type": "code",
   "execution_count": 38,
   "metadata": {
    "collapsed": true
   },
   "outputs": [],
   "source": [
    "activity_label = 'alignment_prep_trimmomatic'\n",
    "metadata = {}\n",
    "resources = {'trimmomatic-file': []}"
   ]
  },
  {
   "cell_type": "code",
   "execution_count": 39,
   "metadata": {
    "collapsed": true
   },
   "outputs": [],
   "source": [
    "trimmomatic = workflows.create_activity(s,\n",
    "                                        workflow_id, \n",
    "                                        activity_label, \n",
    "                                        activity=metadata, \n",
    "                                        resources=resources,\n",
    "                                        progress=tqdm)"
   ]
  },
  {
   "cell_type": "markdown",
   "metadata": {},
   "source": [
    "### SortME RNA"
   ]
  },
  {
   "cell_type": "code",
   "execution_count": 47,
   "metadata": {
    "collapsed": true
   },
   "outputs": [],
   "source": [
    "activity_label = 'alignment_prep_sortmerna'\n",
    "metadata = {}\n",
    "resources = {'sortmerna-file': ['files/sortmerna_single_end.xls']}"
   ]
  },
  {
   "cell_type": "code",
   "execution_count": 48,
   "metadata": {
    "collapsed": false
   },
   "outputs": [
    {
     "name": "stdout",
     "output_type": "stream",
     "text": [
      "\n"
     ]
    }
   ],
   "source": [
    "trimmomatic = workflows.create_activity(s,\n",
    "                                        workflow_id, \n",
    "                                        activity_label, \n",
    "                                        activity=metadata, \n",
    "                                        resources=resources,\n",
    "                                        progress=tqdm)"
   ]
  },
  {
   "cell_type": "markdown",
   "metadata": {},
   "source": [
    "### FastQC"
   ]
  },
  {
   "cell_type": "code",
   "execution_count": 49,
   "metadata": {
    "collapsed": true
   },
   "outputs": [],
   "source": [
    "activity_label = 'alignment_prep_fastqc'\n",
    "metadata = {}\n",
    "resources = {'fastqc-file': ['files/fastqc_single_end.xls']}"
   ]
  },
  {
   "cell_type": "code",
   "execution_count": 50,
   "metadata": {
    "collapsed": false
   },
   "outputs": [
    {
     "name": "stdout",
     "output_type": "stream",
     "text": [
      "\n"
     ]
    }
   ],
   "source": [
    "fastqc = workflows.create_activity(s,\n",
    "                                        workflow_id, \n",
    "                                        activity_label, \n",
    "                                        activity=metadata, \n",
    "                                        resources=resources,\n",
    "                                        progress=tqdm)"
   ]
  },
  {
   "cell_type": "markdown",
   "metadata": {},
   "source": [
    "### Alignment"
   ]
  },
  {
   "cell_type": "code",
   "execution_count": 51,
   "metadata": {
    "collapsed": true
   },
   "outputs": [],
   "source": [
    "activity_label = 'alignment'\n",
    "metadata = {}\n",
    "resources = {'bam-file': ['files/seq1.bam']}"
   ]
  },
  {
   "cell_type": "code",
   "execution_count": 52,
   "metadata": {
    "collapsed": false
   },
   "outputs": [
    {
     "name": "stdout",
     "output_type": "stream",
     "text": [
      "\n"
     ]
    }
   ],
   "source": [
    "alginment = workflows.create_activity(s,\n",
    "                                      workflow_id, \n",
    "                                      activity_label, \n",
    "                                      activity=metadata, \n",
    "                                      resources=resources,\n",
    "                                      progress=tqdm)"
   ]
  },
  {
   "cell_type": "markdown",
   "metadata": {},
   "source": [
    "### BAM QC Prep"
   ]
  },
  {
   "cell_type": "code",
   "execution_count": 53,
   "metadata": {
    "collapsed": true
   },
   "outputs": [],
   "source": [
    "activity_label = 'bam_qc_prep'\n",
    "metadata = {}\n",
    "resources = {'rna-seqc-file': ['files/rnaseqc.xls']}"
   ]
  },
  {
   "cell_type": "code",
   "execution_count": 55,
   "metadata": {
    "collapsed": false
   },
   "outputs": [
    {
     "name": "stdout",
     "output_type": "stream",
     "text": [
      "\n"
     ]
    }
   ],
   "source": [
    "bamqc_prep = workflows.create_activity(s,\n",
    "                                      workflow_id, \n",
    "                                      activity_label, \n",
    "                                      activity=metadata, \n",
    "                                      resources=resources,\n",
    "                                      progress=tqdm)"
   ]
  },
  {
   "cell_type": "markdown",
   "metadata": {},
   "source": [
    "### BAM QC"
   ]
  },
  {
   "cell_type": "markdown",
   "metadata": {},
   "source": [
    "*Complete in web app*"
   ]
  }
 ],
 "metadata": {
  "kernelspec": {
   "display_name": "Python 3",
   "language": "python",
   "name": "python3"
  },
  "language_info": {
   "codemirror_mode": {
    "name": "ipython",
    "version": 3
   },
   "file_extension": ".py",
   "mimetype": "text/x-python",
   "name": "python",
   "nbconvert_exporter": "python",
   "pygments_lexer": "ipython3",
   "version": "3.5.1"
  }
 },
 "nbformat": 4,
 "nbformat_minor": 0
}
