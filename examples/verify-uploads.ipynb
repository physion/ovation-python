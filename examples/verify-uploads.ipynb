{
 "cells": [
  {
   "cell_type": "code",
   "execution_count": null,
   "metadata": {
    "collapsed": true
   },
   "outputs": [],
   "source": [
    "import ovation.contents as contents\n",
    "\n",
    "from ovation.session import connect\n",
    "\n",
    "from pprint import pprint\n",
    "from getpass import getpass"
   ]
  },
  {
   "cell_type": "code",
   "execution_count": null,
   "metadata": {
    "collapsed": false
   },
   "outputs": [],
   "source": [
    "email = input('Ovation email: ')"
   ]
  },
  {
   "cell_type": "code",
   "execution_count": null,
   "metadata": {
    "collapsed": false
   },
   "outputs": [],
   "source": [
    "session = connect(email)"
   ]
  },
  {
   "cell_type": "markdown",
   "metadata": {},
   "source": [
    "## Walk directory"
   ]
  },
  {
   "cell_type": "code",
   "execution_count": null,
   "metadata": {
    "collapsed": false
   },
   "outputs": [],
   "source": [
    "parent_id = input('Folder UUID: ')"
   ]
  },
  {
   "cell_type": "code",
   "execution_count": null,
   "metadata": {
    "collapsed": true
   },
   "outputs": [],
   "source": [
    "parent_folder = session.get(session.entity_path('folders', parent_id))"
   ]
  },
  {
   "cell_type": "code",
   "execution_count": null,
   "metadata": {
    "collapsed": false
   },
   "outputs": [],
   "source": [
    "total_bytes = 0\n",
    "for (parent, folders, files) in contents.walk(session, parent_folder):\n",
    "    for f in files:\n",
    "        rev = contents.get_head_revision(session, f)\n",
    "        if 'content_length' not in rev.attributes:\n",
    "            session.put(rev.links['upload-complete']) # This updates Revision from S3 metadata\n",
    "            rev = contents.get_head_revision(session, f)\n",
    "\n",
    "        pprint(\"{}: {} bytes\".format(rev.attributes.name, rev.attributes.content_length))\n",
    "        total_bytes += rev.attributes.get('content_length', 0)\n",
    "\n",
    "print(\"Total bytes: {}\".format(total_bytes))"
   ]
  },
  {
   "cell_type": "code",
   "execution_count": null,
   "metadata": {
    "collapsed": true
   },
   "outputs": [],
   "source": []
  }
 ],
 "metadata": {
  "kernelspec": {
   "display_name": "Python 3",
   "language": "python",
   "name": "python3"
  },
  "language_info": {
   "codemirror_mode": {
    "name": "ipython",
    "version": 3
   },
   "file_extension": ".py",
   "mimetype": "text/x-python",
   "name": "python",
   "nbconvert_exporter": "python",
   "pygments_lexer": "ipython3",
   "version": "3.5.1"
  }
 },
 "nbformat": 4,
 "nbformat_minor": 0
}
