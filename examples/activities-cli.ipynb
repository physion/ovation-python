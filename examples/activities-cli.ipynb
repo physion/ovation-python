{
 "cells": [
  {
   "cell_type": "markdown",
   "metadata": {},
   "source": [
    "# Activities"
   ]
  },
  {
   "cell_type": "markdown",
   "metadata": {},
   "source": [
    "This example shows how to create an `Activity` record, linking inputs, outputs and related files using the Ovation command line interface (CLI)"
   ]
  },
  {
   "cell_type": "markdown",
   "metadata": {},
   "source": [
    "## Create a new activity"
   ]
  },
  {
   "cell_type": "markdown",
   "metadata": {
    "collapsed": true
   },
   "source": [
    "First, we'll create the activity record. After the record is created, we'll add inputs and outputs (if needed). Files related to the activity (procotols, code, etc.) can be specified at activity creation. You can reference an existing revisions' UUIDs or local files. Local files will be uploaded to the project as part of activity creation."
   ]
  },
  {
   "cell_type": "markdown",
   "metadata": {},
   "source": [
    "`create_activity` creates the activity and associates it with the given `Project`. "
   ]
  },
  {
   "cell_type": "code",
   "execution_count": null,
   "metadata": {},
   "outputs": [],
   "source": [
    "PROJECT='c77efb46-fa1b-4e1a-8640-87acf8da1abf' # Project UUID\n",
    "NAME='Example activity' # Activity NAME\n",
    "USER='changeme@example.com' # Your Email\n",
    "\n",
    "# Create \n",
    "ACTIVITY=$(python -m ovation.cli create-activity -u \"$USER\" --concise -p \"$PROJECT\" -n \"$NAME\" --related example.m)"
   ]
  },
  {
   "cell_type": "markdown",
   "metadata": {},
   "source": [
    "## Add inputs"
   ]
  },
  {
   "cell_type": "markdown",
   "metadata": {},
   "source": [
    "You can add _inputs_ to the Activity to indicate file `Revisions` or `Sources` that served as the input to the experiment or analysis described by the activity. You can specify existing (already uploaded) `Revisions` or existing `Sources` by UUID. You can also provide path(s) of local file(s) when adding inputs. Local files will be uploaded to Ovation as new `File` instances before being added as activity inputs. "
   ]
  },
  {
   "cell_type": "markdown",
   "metadata": {},
   "source": [
    "This example adds an existing `Revision` or `Source` as the activity input:"
   ]
  },
  {
   "cell_type": "code",
   "execution_count": null,
   "metadata": {
    "collapsed": true
   },
   "outputs": [],
   "source": [
    "PROJECT='d1e0c30b-6e0b-46f1-bdca-33228e4da361' # Revision or Source UUID\n",
    "\n",
    "# Add input\n",
    "python -m ovation.cli add-input -u \"$USER\" \"$ACTIVITY\" \"$UUID\""
   ]
  },
  {
   "cell_type": "markdown",
   "metadata": {},
   "source": [
    "This example uploads a local file and adds it as an activity input:"
   ]
  },
  {
   "cell_type": "code",
   "execution_count": null,
   "metadata": {
    "collapsed": true
   },
   "outputs": [],
   "source": [
    "$PATH=example/input.csv\n",
    "\n",
    "# Add input\n",
    "python -m ovation.cli add-input -u \"$USER\" \"$ACTIVITY\" \"$UUID\""
   ]
  },
  {
   "cell_type": "markdown",
   "metadata": {},
   "source": [
    "## Add outputs"
   ]
  },
  {
   "cell_type": "markdown",
   "metadata": {},
   "source": [
    "You can add _outputs_ to the Activity to indicate file `Revisions` or `Sources` that are the result of the experiment or analysis described by the activity. You can specify existing (already uploaded) `Revisions` or existing `Sources` by UUID. You can also provide path(s) of local file(s) when adding inputs. Local files will be uploaded to Ovation as new `File` instances before being added as activity outputs. "
   ]
  },
  {
   "cell_type": "markdown",
   "metadata": {},
   "source": [
    "This example adds an existing `Revision` as an activity output:"
   ]
  },
  {
   "cell_type": "code",
   "execution_count": null,
   "metadata": {
    "collapsed": true
   },
   "outputs": [],
   "source": [
    "PROJECT='05890b26-d628-4925-9a85-a10ed6075edb' # Revision or Source UUID\n",
    "\n",
    "# Add input\n",
    "python -m ovation.cli add-output -u \"$USER\" \"$ACTIVITY\" \"$UUID\""
   ]
  },
  {
   "cell_type": "markdown",
   "metadata": {},
   "source": [
    "This example adds a local file an activity output:"
   ]
  },
  {
   "cell_type": "code",
   "execution_count": null,
   "metadata": {
    "collapsed": true
   },
   "outputs": [],
   "source": [
    "$PATH=example/output.csv\n",
    "\n",
    "# Add input\n",
    "python -m ovation.cli add-input -u \"$USER\" \"$ACTIVITY\" \"$UUID\""
   ]
  },
  {
   "cell_type": "markdown",
   "metadata": {},
   "source": [
    "## A complete workflow"
   ]
  },
  {
   "cell_type": "markdown",
   "metadata": {},
   "source": [
    "It's common to create an activity from exsting inputs, download the activity inputs and run an analysis and then upload the results as outputs to the activity. This example shows this common workflow:"
   ]
  },
  {
   "cell_type": "markdown",
   "metadata": {},
   "source": [
    "First, we create the activity and upload inputs:"
   ]
  },
  {
   "cell_type": "code",
   "execution_count": null,
   "metadata": {
    "collapsed": true
   },
   "outputs": [],
   "source": [
    "PROJECT='c77efb46-fa1b-4e1a-8640-87acf8da1abf' # Project UUID\n",
    "NAME='Example activity' # Activity NAME\n",
    "USER='changeme@example.com' # Your Email\n",
    "\n",
    "# Create a new activity and assign its UUID to $ACTIVITY\n",
    "ACTIVITY=$(python -m ovation.cli create-activity -u \"$USER\" --concise -p \"$PROJECT\" -n \"$NAME\" --related example.m)\n",
    "\n",
    "# Add inputs\n",
    "$PATH=example/input.csv\n",
    "\n",
    "# Add input\n",
    "python -m ovation.cli add-input -u \"$USER\" \"$ACTIVITY\" \"$UUID\""
   ]
  },
  {
   "cell_type": "markdown",
   "metadata": {},
   "source": [
    "Now, our collaborator can download the inputs, and run analysis:"
   ]
  },
  {
   "cell_type": "code",
   "execution_count": null,
   "metadata": {
    "collapsed": true
   },
   "outputs": [],
   "source": [
    "# Downloads inputs/ outputs/ and related/\n",
    "python -m ovation.cli download -u \"$USER\" \"$ACTIVITY\"\n",
    "\n",
    "# Run analysis on /inputs using /related"
   ]
  },
  {
   "cell_type": "markdown",
   "metadata": {},
   "source": [
    "Now, our collaborator uploads the results of the analysis as activity outputs:"
   ]
  },
  {
   "cell_type": "code",
   "execution_count": null,
   "metadata": {
    "collapsed": true
   },
   "outputs": [],
   "source": [
    "$PATH=outputs/result.csv\n",
    "\n",
    "# Add input\n",
    "python -m ovation.cli add-output -u \"$USER\" \"$ACTIVITY\" \"$PATH\""
   ]
  }
 ],
 "metadata": {
  "kernelspec": {
   "display_name": "Bash",
   "language": "bash",
   "name": "bash"
  },
  "language_info": {
   "codemirror_mode": "shell",
   "file_extension": ".sh",
   "mimetype": "text/x-sh",
   "name": "bash"
  }
 },
 "nbformat": 4,
 "nbformat_minor": 2
}
